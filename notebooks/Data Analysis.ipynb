{
 "cells": [
  {
   "cell_type": "markdown",
   "metadata": {},
   "source": [
    "# Part 2: Data Analysis of Reddit Data"
   ]
  },
  {
   "cell_type": "markdown",
   "metadata": {},
   "source": [
    "### Importing necessary libraries"
   ]
  },
  {
   "cell_type": "code",
   "execution_count": 1,
   "metadata": {},
   "outputs": [],
   "source": [
    "\n",
    "# Data Manipulation \n",
    "import numpy as np \n",
    "import pandas as pd \n",
    "#pd.options.mode.chained_assignment = None \n",
    "\n",
    "# Text Manipulation \n",
    "import re \n",
    "import nltk \n",
    "from gensim.models import word2vec\n",
    "\n",
    "# Data Visualisation \n",
    "import matplotlib.pyplot as plt \n",
    "import seaborn as sns"
   ]
  },
  {
   "cell_type": "code",
   "execution_count": 4,
   "metadata": {},
   "outputs": [
    {
     "data": {
      "text/plain": [
       "(1000, 11)"
      ]
     },
     "execution_count": 4,
     "metadata": {},
     "output_type": "execute_result"
    }
   ],
   "source": [
    "# Load the data into a dataframe \n",
    "data = pd.read_csv('data.csv')\n",
    "data.shape"
   ]
  },
  {
   "cell_type": "code",
   "execution_count": 5,
   "metadata": {},
   "outputs": [
    {
     "data": {
      "text/html": [
       "<div>\n",
       "<style scoped>\n",
       "    .dataframe tbody tr th:only-of-type {\n",
       "        vertical-align: middle;\n",
       "    }\n",
       "\n",
       "    .dataframe tbody tr th {\n",
       "        vertical-align: top;\n",
       "    }\n",
       "\n",
       "    .dataframe thead th {\n",
       "        text-align: right;\n",
       "    }\n",
       "</style>\n",
       "<table border=\"1\" class=\"dataframe\">\n",
       "  <thead>\n",
       "    <tr style=\"text-align: right;\">\n",
       "      <th></th>\n",
       "      <th>Title</th>\n",
       "      <th>Score</th>\n",
       "      <th>ID</th>\n",
       "      <th>URL</th>\n",
       "      <th>num_comments</th>\n",
       "      <th>created_on</th>\n",
       "      <th>Body</th>\n",
       "      <th>Original</th>\n",
       "      <th>Flair</th>\n",
       "      <th>Comments</th>\n",
       "    </tr>\n",
       "  </thead>\n",
       "  <tbody>\n",
       "    <tr>\n",
       "      <th>0</th>\n",
       "      <td>COVID-19 fear delaying cancer care in India: O...</td>\n",
       "      <td>32</td>\n",
       "      <td>k9sbju</td>\n",
       "      <td>https://www.india.com/lifestyle/covid-19-fear-...</td>\n",
       "      <td>2</td>\n",
       "      <td>1.607551e+09</td>\n",
       "      <td>NaN</td>\n",
       "      <td>False</td>\n",
       "      <td>Coronavirus</td>\n",
       "      <td>The fear of contracting COVID 19 has kept peop...</td>\n",
       "    </tr>\n",
       "    <tr>\n",
       "      <th>1</th>\n",
       "      <td>66 grandmasters and counting: The story behind...</td>\n",
       "      <td>326</td>\n",
       "      <td>hv88vu</td>\n",
       "      <td>https://www.espn.com/chess/story/_/id/29501703...</td>\n",
       "      <td>59</td>\n",
       "      <td>1.595370e+09</td>\n",
       "      <td>NaN</td>\n",
       "      <td>False</td>\n",
       "      <td>Sports</td>\n",
       "      <td>But we also need to focus on some other sports...</td>\n",
       "    </tr>\n",
       "    <tr>\n",
       "      <th>2</th>\n",
       "      <td>It’s High Time that India Reclaimed Its Ganja ...</td>\n",
       "      <td>116</td>\n",
       "      <td>jn3gu7</td>\n",
       "      <td>https://science.thewire.in/the-sciences/oshaug...</td>\n",
       "      <td>27</td>\n",
       "      <td>1.604405e+09</td>\n",
       "      <td>NaN</td>\n",
       "      <td>False</td>\n",
       "      <td>Science/Technology</td>\n",
       "      <td>Yes please.</td>\n",
       "    </tr>\n",
       "    <tr>\n",
       "      <th>3</th>\n",
       "      <td>Indian economy witnessing V-shaped recovery</td>\n",
       "      <td>30</td>\n",
       "      <td>k5uk7s</td>\n",
       "      <td>https://www.financialexpress.com/economy/india...</td>\n",
       "      <td>12</td>\n",
       "      <td>1.607019e+09</td>\n",
       "      <td>NaN</td>\n",
       "      <td>False</td>\n",
       "      <td>Policy/Economy</td>\n",
       "      <td>V for Wanakkam</td>\n",
       "    </tr>\n",
       "    <tr>\n",
       "      <th>4</th>\n",
       "      <td>Should I measure my foods cooked or uncooked?</td>\n",
       "      <td>12</td>\n",
       "      <td>k3sklo</td>\n",
       "      <td>https://www.reddit.com/r/india/comments/k3sklo...</td>\n",
       "      <td>4</td>\n",
       "      <td>1.606757e+09</td>\n",
       "      <td>Hello guys, as the title says, I had a big do...</td>\n",
       "      <td>False</td>\n",
       "      <td>Food</td>\n",
       "      <td>where are you getting your nutritional informa...</td>\n",
       "    </tr>\n",
       "  </tbody>\n",
       "</table>\n",
       "</div>"
      ],
      "text/plain": [
       "                                               Title  Score      ID  \\\n",
       "0  COVID-19 fear delaying cancer care in India: O...     32  k9sbju   \n",
       "1  66 grandmasters and counting: The story behind...    326  hv88vu   \n",
       "2  It’s High Time that India Reclaimed Its Ganja ...    116  jn3gu7   \n",
       "3        Indian economy witnessing V-shaped recovery     30  k5uk7s   \n",
       "4      Should I measure my foods cooked or uncooked?     12  k3sklo   \n",
       "\n",
       "                                                 URL  num_comments  \\\n",
       "0  https://www.india.com/lifestyle/covid-19-fear-...             2   \n",
       "1  https://www.espn.com/chess/story/_/id/29501703...            59   \n",
       "2  https://science.thewire.in/the-sciences/oshaug...            27   \n",
       "3  https://www.financialexpress.com/economy/india...            12   \n",
       "4  https://www.reddit.com/r/india/comments/k3sklo...             4   \n",
       "\n",
       "     created_on                                               Body  Original  \\\n",
       "0  1.607551e+09                                                NaN     False   \n",
       "1  1.595370e+09                                                NaN     False   \n",
       "2  1.604405e+09                                                NaN     False   \n",
       "3  1.607019e+09                                                NaN     False   \n",
       "4  1.606757e+09   Hello guys, as the title says, I had a big do...     False   \n",
       "\n",
       "                Flair                                           Comments  \n",
       "0         Coronavirus  The fear of contracting COVID 19 has kept peop...  \n",
       "1              Sports  But we also need to focus on some other sports...  \n",
       "2  Science/Technology                                       Yes please.   \n",
       "3      Policy/Economy                                    V for Wanakkam   \n",
       "4                Food  where are you getting your nutritional informa...  "
      ]
     },
     "execution_count": 5,
     "metadata": {},
     "output_type": "execute_result"
    }
   ],
   "source": [
    "# Data Shuffling\n",
    "data.drop(['Unnamed: 0'], inplace=True, axis=1)\n",
    "data[:] = data.sample(frac=1).values\n",
    "data.head()"
   ]
  },
  {
   "cell_type": "code",
   "execution_count": 6,
   "metadata": {},
   "outputs": [
    {
     "name": "stdout",
     "output_type": "stream",
     "text": [
      "<class 'pandas.core.frame.DataFrame'>\n",
      "RangeIndex: 1000 entries, 0 to 999\n",
      "Data columns (total 10 columns):\n",
      " #   Column        Non-Null Count  Dtype  \n",
      "---  ------        --------------  -----  \n",
      " 0   Title         1000 non-null   object \n",
      " 1   Score         1000 non-null   int64  \n",
      " 2   ID            1000 non-null   object \n",
      " 3   URL           1000 non-null   object \n",
      " 4   num_comments  1000 non-null   int64  \n",
      " 5   created_on    1000 non-null   float64\n",
      " 6   Body          340 non-null    object \n",
      " 7   Original      1000 non-null   bool   \n",
      " 8   Flair         1000 non-null   object \n",
      " 9   Comments      959 non-null    object \n",
      "dtypes: bool(1), float64(1), int64(2), object(6)\n",
      "memory usage: 71.4+ KB\n"
     ]
    }
   ],
   "source": [
    "# Display data types and null values\n",
    "data.info()"
   ]
  },
  {
   "cell_type": "code",
   "execution_count": 7,
   "metadata": {},
   "outputs": [
    {
     "name": "stdout",
     "output_type": "stream",
     "text": [
      "10\n"
     ]
    },
    {
     "data": {
      "text/plain": [
       "array(['Coronavirus', 'Sports', 'Science/Technology', 'Policy/Economy',\n",
       "       'Food', 'AskIndia', 'Non-Political', '[R]eddiquette',\n",
       "       'Business/Finance', 'Photography'], dtype=object)"
      ]
     },
     "execution_count": 7,
     "metadata": {},
     "output_type": "execute_result"
    }
   ],
   "source": [
    "print(len(data['Flair'].unique()))\n",
    "data['Flair'].unique()"
   ]
  },
  {
   "cell_type": "code",
   "execution_count": 8,
   "metadata": {},
   "outputs": [
    {
     "data": {
      "text/html": [
       "<div>\n",
       "<style scoped>\n",
       "    .dataframe tbody tr th:only-of-type {\n",
       "        vertical-align: middle;\n",
       "    }\n",
       "\n",
       "    .dataframe tbody tr th {\n",
       "        vertical-align: top;\n",
       "    }\n",
       "\n",
       "    .dataframe thead th {\n",
       "        text-align: right;\n",
       "    }\n",
       "</style>\n",
       "<table border=\"1\" class=\"dataframe\">\n",
       "  <thead>\n",
       "    <tr style=\"text-align: right;\">\n",
       "      <th></th>\n",
       "      <th>Flair</th>\n",
       "      <th>URL</th>\n",
       "      <th>Title</th>\n",
       "      <th>Comments</th>\n",
       "      <th>Body</th>\n",
       "    </tr>\n",
       "  </thead>\n",
       "  <tbody>\n",
       "    <tr>\n",
       "      <th>0</th>\n",
       "      <td>Coronavirus</td>\n",
       "      <td>https://www.india.com/lifestyle/covid-19-fear-...</td>\n",
       "      <td>COVID-19 fear delaying cancer care in India: O...</td>\n",
       "      <td>The fear of contracting COVID 19 has kept peop...</td>\n",
       "      <td>NaN</td>\n",
       "    </tr>\n",
       "    <tr>\n",
       "      <th>1</th>\n",
       "      <td>Sports</td>\n",
       "      <td>https://www.espn.com/chess/story/_/id/29501703...</td>\n",
       "      <td>66 grandmasters and counting: The story behind...</td>\n",
       "      <td>But we also need to focus on some other sports...</td>\n",
       "      <td>NaN</td>\n",
       "    </tr>\n",
       "    <tr>\n",
       "      <th>2</th>\n",
       "      <td>Science/Technology</td>\n",
       "      <td>https://science.thewire.in/the-sciences/oshaug...</td>\n",
       "      <td>It’s High Time that India Reclaimed Its Ganja ...</td>\n",
       "      <td>Yes please.</td>\n",
       "      <td>NaN</td>\n",
       "    </tr>\n",
       "    <tr>\n",
       "      <th>3</th>\n",
       "      <td>Policy/Economy</td>\n",
       "      <td>https://www.financialexpress.com/economy/india...</td>\n",
       "      <td>Indian economy witnessing V-shaped recovery</td>\n",
       "      <td>V for Wanakkam</td>\n",
       "      <td>NaN</td>\n",
       "    </tr>\n",
       "    <tr>\n",
       "      <th>4</th>\n",
       "      <td>Food</td>\n",
       "      <td>https://www.reddit.com/r/india/comments/k3sklo...</td>\n",
       "      <td>Should I measure my foods cooked or uncooked?</td>\n",
       "      <td>where are you getting your nutritional informa...</td>\n",
       "      <td>Hello guys, as the title says, I had a big do...</td>\n",
       "    </tr>\n",
       "  </tbody>\n",
       "</table>\n",
       "</div>"
      ],
      "text/plain": [
       "                Flair                                                URL  \\\n",
       "0         Coronavirus  https://www.india.com/lifestyle/covid-19-fear-...   \n",
       "1              Sports  https://www.espn.com/chess/story/_/id/29501703...   \n",
       "2  Science/Technology  https://science.thewire.in/the-sciences/oshaug...   \n",
       "3      Policy/Economy  https://www.financialexpress.com/economy/india...   \n",
       "4                Food  https://www.reddit.com/r/india/comments/k3sklo...   \n",
       "\n",
       "                                               Title  \\\n",
       "0  COVID-19 fear delaying cancer care in India: O...   \n",
       "1  66 grandmasters and counting: The story behind...   \n",
       "2  It’s High Time that India Reclaimed Its Ganja ...   \n",
       "3        Indian economy witnessing V-shaped recovery   \n",
       "4      Should I measure my foods cooked or uncooked?   \n",
       "\n",
       "                                            Comments  \\\n",
       "0  The fear of contracting COVID 19 has kept peop...   \n",
       "1  But we also need to focus on some other sports...   \n",
       "2                                       Yes please.    \n",
       "3                                    V for Wanakkam    \n",
       "4  where are you getting your nutritional informa...   \n",
       "\n",
       "                                                Body  \n",
       "0                                                NaN  \n",
       "1                                                NaN  \n",
       "2                                                NaN  \n",
       "3                                                NaN  \n",
       "4   Hello guys, as the title says, I had a big do...  "
      ]
     },
     "execution_count": 8,
     "metadata": {},
     "output_type": "execute_result"
    }
   ],
   "source": [
    "# List of relevant features (Ones containing the right type of textual data for classification)\n",
    "features = ['Flair', 'URL', 'Title', 'Comments', 'Body']\n",
    "data = data[features]\n",
    "data.head()"
   ]
  },
  {
   "cell_type": "code",
   "execution_count": 9,
   "metadata": {},
   "outputs": [
    {
     "data": {
      "text/html": [
       "<div>\n",
       "<style scoped>\n",
       "    .dataframe tbody tr th:only-of-type {\n",
       "        vertical-align: middle;\n",
       "    }\n",
       "\n",
       "    .dataframe tbody tr th {\n",
       "        vertical-align: top;\n",
       "    }\n",
       "\n",
       "    .dataframe thead th {\n",
       "        text-align: right;\n",
       "    }\n",
       "</style>\n",
       "<table border=\"1\" class=\"dataframe\">\n",
       "  <thead>\n",
       "    <tr style=\"text-align: right;\">\n",
       "      <th></th>\n",
       "      <th>Flair</th>\n",
       "      <th>id</th>\n",
       "    </tr>\n",
       "  </thead>\n",
       "  <tbody>\n",
       "    <tr>\n",
       "      <th>0</th>\n",
       "      <td>Coronavirus</td>\n",
       "      <td>0</td>\n",
       "    </tr>\n",
       "    <tr>\n",
       "      <th>1</th>\n",
       "      <td>Sports</td>\n",
       "      <td>1</td>\n",
       "    </tr>\n",
       "    <tr>\n",
       "      <th>2</th>\n",
       "      <td>Science/Technology</td>\n",
       "      <td>2</td>\n",
       "    </tr>\n",
       "    <tr>\n",
       "      <th>3</th>\n",
       "      <td>Policy/Economy</td>\n",
       "      <td>3</td>\n",
       "    </tr>\n",
       "    <tr>\n",
       "      <th>4</th>\n",
       "      <td>Food</td>\n",
       "      <td>4</td>\n",
       "    </tr>\n",
       "    <tr>\n",
       "      <th>5</th>\n",
       "      <td>AskIndia</td>\n",
       "      <td>5</td>\n",
       "    </tr>\n",
       "    <tr>\n",
       "      <th>9</th>\n",
       "      <td>Non-Political</td>\n",
       "      <td>6</td>\n",
       "    </tr>\n",
       "    <tr>\n",
       "      <th>15</th>\n",
       "      <td>[R]eddiquette</td>\n",
       "      <td>7</td>\n",
       "    </tr>\n",
       "    <tr>\n",
       "      <th>17</th>\n",
       "      <td>Business/Finance</td>\n",
       "      <td>8</td>\n",
       "    </tr>\n",
       "    <tr>\n",
       "      <th>51</th>\n",
       "      <td>Photography</td>\n",
       "      <td>9</td>\n",
       "    </tr>\n",
       "  </tbody>\n",
       "</table>\n",
       "</div>"
      ],
      "text/plain": [
       "                 Flair  id\n",
       "0          Coronavirus   0\n",
       "1               Sports   1\n",
       "2   Science/Technology   2\n",
       "3       Policy/Economy   3\n",
       "4                 Food   4\n",
       "5             AskIndia   5\n",
       "9        Non-Political   6\n",
       "15       [R]eddiquette   7\n",
       "17    Business/Finance   8\n",
       "51         Photography   9"
      ]
     },
     "execution_count": 9,
     "metadata": {},
     "output_type": "execute_result"
    }
   ],
   "source": [
    "# Assigning and individual id to each flair\n",
    "data['id'] = data['Flair'].factorize()[0]\n",
    "flair_category = data[['Flair', 'id']].drop_duplicates().sort_values('id')\n",
    "flair_category"
   ]
  },
  {
   "cell_type": "code",
   "execution_count": 10,
   "metadata": {},
   "outputs": [
    {
     "name": "stdout",
     "output_type": "stream",
     "text": [
      "{'Coronavirus': 0, 'Sports': 1, 'Science/Technology': 2, 'Policy/Economy': 3, 'Food': 4, 'AskIndia': 5, 'Non-Political': 6, '[R]eddiquette': 7, 'Business/Finance': 8, 'Photography': 9}\n",
      "=========================================================================================================\n",
      "{0: 'Coronavirus', 1: 'Sports', 2: 'Science/Technology', 3: 'Policy/Economy', 4: 'Food', 5: 'AskIndia', 6: 'Non-Political', 7: '[R]eddiquette', 8: 'Business/Finance', 9: 'Photography'}\n"
     ]
    }
   ],
   "source": [
    "# Convert into a label dictionary \n",
    "category_labels = dict(flair_category.values)\n",
    "print(category_labels)\n",
    "\n",
    "print(\"=======\"*15) # Line break display\n",
    "\n",
    "# Similarly, we can create an inverse of the previous one to convert labels to categories\n",
    "category_reverse = dict(flair_category[['id', 'Flair']].values)\n",
    "print(category_reverse)"
   ]
  },
  {
   "cell_type": "code",
   "execution_count": 11,
   "metadata": {},
   "outputs": [
    {
     "name": "stderr",
     "output_type": "stream",
     "text": [
      "<ipython-input-11-9aa9db37b9ca>:9: SettingWithCopyWarning: \n",
      "A value is trying to be set on a copy of a slice from a DataFrame\n",
      "\n",
      "See the caveats in the documentation: https://pandas.pydata.org/pandas-docs/stable/user_guide/indexing.html#returning-a-view-versus-a-copy\n",
      "  data['Combine'][i] = data['Combine'][i] + ' ' + data['Comments'][i]\n",
      "<ipython-input-11-9aa9db37b9ca>:6: SettingWithCopyWarning: \n",
      "A value is trying to be set on a copy of a slice from a DataFrame\n",
      "\n",
      "See the caveats in the documentation: https://pandas.pydata.org/pandas-docs/stable/user_guide/indexing.html#returning-a-view-versus-a-copy\n",
      "  data['Combine'][i] = data['Combine'][i] + ' ' + data['Body'][i]\n"
     ]
    },
    {
     "data": {
      "text/html": [
       "<div>\n",
       "<style scoped>\n",
       "    .dataframe tbody tr th:only-of-type {\n",
       "        vertical-align: middle;\n",
       "    }\n",
       "\n",
       "    .dataframe tbody tr th {\n",
       "        vertical-align: top;\n",
       "    }\n",
       "\n",
       "    .dataframe thead th {\n",
       "        text-align: right;\n",
       "    }\n",
       "</style>\n",
       "<table border=\"1\" class=\"dataframe\">\n",
       "  <thead>\n",
       "    <tr style=\"text-align: right;\">\n",
       "      <th></th>\n",
       "      <th>Flair</th>\n",
       "      <th>URL</th>\n",
       "      <th>Title</th>\n",
       "      <th>Comments</th>\n",
       "      <th>Body</th>\n",
       "      <th>id</th>\n",
       "      <th>Combine</th>\n",
       "    </tr>\n",
       "  </thead>\n",
       "  <tbody>\n",
       "    <tr>\n",
       "      <th>0</th>\n",
       "      <td>Coronavirus</td>\n",
       "      <td>https://www.india.com/lifestyle/covid-19-fear-...</td>\n",
       "      <td>COVID-19 fear delaying cancer care in India: O...</td>\n",
       "      <td>The fear of contracting COVID 19 has kept peop...</td>\n",
       "      <td>NaN</td>\n",
       "      <td>0</td>\n",
       "      <td>COVID-19 fear delaying cancer care in India: O...</td>\n",
       "    </tr>\n",
       "    <tr>\n",
       "      <th>1</th>\n",
       "      <td>Sports</td>\n",
       "      <td>https://www.espn.com/chess/story/_/id/29501703...</td>\n",
       "      <td>66 grandmasters and counting: The story behind...</td>\n",
       "      <td>But we also need to focus on some other sports...</td>\n",
       "      <td>NaN</td>\n",
       "      <td>1</td>\n",
       "      <td>66 grandmasters and counting: The story behind...</td>\n",
       "    </tr>\n",
       "    <tr>\n",
       "      <th>2</th>\n",
       "      <td>Science/Technology</td>\n",
       "      <td>https://science.thewire.in/the-sciences/oshaug...</td>\n",
       "      <td>It’s High Time that India Reclaimed Its Ganja ...</td>\n",
       "      <td>Yes please.</td>\n",
       "      <td>NaN</td>\n",
       "      <td>2</td>\n",
       "      <td>It’s High Time that India Reclaimed Its Ganja ...</td>\n",
       "    </tr>\n",
       "    <tr>\n",
       "      <th>3</th>\n",
       "      <td>Policy/Economy</td>\n",
       "      <td>https://www.financialexpress.com/economy/india...</td>\n",
       "      <td>Indian economy witnessing V-shaped recovery</td>\n",
       "      <td>V for Wanakkam</td>\n",
       "      <td>NaN</td>\n",
       "      <td>3</td>\n",
       "      <td>Indian economy witnessing V-shaped recovery V ...</td>\n",
       "    </tr>\n",
       "    <tr>\n",
       "      <th>4</th>\n",
       "      <td>Food</td>\n",
       "      <td>https://www.reddit.com/r/india/comments/k3sklo...</td>\n",
       "      <td>Should I measure my foods cooked or uncooked?</td>\n",
       "      <td>where are you getting your nutritional informa...</td>\n",
       "      <td>Hello guys, as the title says, I had a big do...</td>\n",
       "      <td>4</td>\n",
       "      <td>Should I measure my foods cooked or uncooked? ...</td>\n",
       "    </tr>\n",
       "    <tr>\n",
       "      <th>5</th>\n",
       "      <td>AskIndia</td>\n",
       "      <td>https://www.reddit.com/r/india/comments/k70dkk...</td>\n",
       "      <td>'Swadeshi' products are lazy and made just for...</td>\n",
       "      <td>Umm yeah...\\n\\nBefore innovation comes a count...</td>\n",
       "      <td>Amongst the 'boycott china' craze (because we ...</td>\n",
       "      <td>5</td>\n",
       "      <td>'Swadeshi' products are lazy and made just for...</td>\n",
       "    </tr>\n",
       "    <tr>\n",
       "      <th>6</th>\n",
       "      <td>AskIndia</td>\n",
       "      <td>https://www.reddit.com/r/india/comments/k7r48n...</td>\n",
       "      <td>how can I as an ordinary citizen, support the ...</td>\n",
       "      <td>Try to buy products from real cooperatives lik...</td>\n",
       "      <td>I have seen in videos how hard is for them to ...</td>\n",
       "      <td>5</td>\n",
       "      <td>how can I as an ordinary citizen, support the ...</td>\n",
       "    </tr>\n",
       "    <tr>\n",
       "      <th>7</th>\n",
       "      <td>Sports</td>\n",
       "      <td>https://timesofindia.com/sports/tennis/us-open...</td>\n",
       "      <td>Sumit Nagal becomes first Indian to win a Gran...</td>\n",
       "      <td>Wait he defeated Nadal/Federer?</td>\n",
       "      <td>NaN</td>\n",
       "      <td>1</td>\n",
       "      <td>Sumit Nagal becomes first Indian to win a Gran...</td>\n",
       "    </tr>\n",
       "    <tr>\n",
       "      <th>8</th>\n",
       "      <td>Coronavirus</td>\n",
       "      <td>https://timesofindia.indiatimes.com/india/astr...</td>\n",
       "      <td>AstraZeneca manufacturing error clouds vaccine...</td>\n",
       "      <td>AstraZeneca and Oxford University have acknow...</td>\n",
       "      <td>NaN</td>\n",
       "      <td>0</td>\n",
       "      <td>AstraZeneca manufacturing error clouds vaccine...</td>\n",
       "    </tr>\n",
       "    <tr>\n",
       "      <th>9</th>\n",
       "      <td>Non-Political</td>\n",
       "      <td>https://v.redd.it/f4fchsepmex51</td>\n",
       "      <td>Hyderabad cop running for 2 km to help ambulan...</td>\n",
       "      <td>Bhagwan zinda hain</td>\n",
       "      <td>NaN</td>\n",
       "      <td>6</td>\n",
       "      <td>Hyderabad cop running for 2 km to help ambulan...</td>\n",
       "    </tr>\n",
       "    <tr>\n",
       "      <th>10</th>\n",
       "      <td>Science/Technology</td>\n",
       "      <td>https://www.reddit.com/r/india/comments/jwrblw...</td>\n",
       "      <td>Airtel blocking Mullvad VPN?</td>\n",
       "      <td>Yeah. There’s something weird. It’s mobile and...</td>\n",
       "      <td>I use Mullvad VPN for obvious reasons. Just no...</td>\n",
       "      <td>2</td>\n",
       "      <td>Airtel blocking Mullvad VPN? I use Mullvad VPN...</td>\n",
       "    </tr>\n",
       "    <tr>\n",
       "      <th>11</th>\n",
       "      <td>Non-Political</td>\n",
       "      <td>https://www.reddit.com/r/india/comments/k4k41m...</td>\n",
       "      <td>Rant about Indian Railways (IRCTC)</td>\n",
       "      <td>With out discounting the issues Indian Railway...</td>\n",
       "      <td>I am here in my car while my dad is driving li...</td>\n",
       "      <td>6</td>\n",
       "      <td>Rant about Indian Railways (IRCTC) I am here i...</td>\n",
       "    </tr>\n",
       "    <tr>\n",
       "      <th>12</th>\n",
       "      <td>Sports</td>\n",
       "      <td>https://www.youtube.com/watch?v=0TpDveaAYvA</td>\n",
       "      <td>Behind The Scenes: How Girls from Koovathur ar...</td>\n",
       "      <td>NaN</td>\n",
       "      <td>NaN</td>\n",
       "      <td>1</td>\n",
       "      <td>Behind The Scenes: How Girls from Koovathur ar...</td>\n",
       "    </tr>\n",
       "    <tr>\n",
       "      <th>13</th>\n",
       "      <td>Non-Political</td>\n",
       "      <td>https://i.imgur.com/Rv86B53.jpg</td>\n",
       "      <td>Cancellation charge of order value for Groceri...</td>\n",
       "      <td>Clint?</td>\n",
       "      <td>NaN</td>\n",
       "      <td>6</td>\n",
       "      <td>Cancellation charge of order value for Groceri...</td>\n",
       "    </tr>\n",
       "    <tr>\n",
       "      <th>14</th>\n",
       "      <td>Coronavirus</td>\n",
       "      <td>https://caravanmagazine.in/commentary/unhealth...</td>\n",
       "      <td>Women healthcare workers battle everyday sexis...</td>\n",
       "      <td>NaN</td>\n",
       "      <td>NaN</td>\n",
       "      <td>0</td>\n",
       "      <td>Women healthcare workers battle everyday sexis...</td>\n",
       "    </tr>\n",
       "    <tr>\n",
       "      <th>15</th>\n",
       "      <td>[R]eddiquette</td>\n",
       "      <td>https://www.reddit.com/r/india/comments/ckinsv...</td>\n",
       "      <td>Sexual assaults against women are increasing b...</td>\n",
       "      <td>[deleted]</td>\n",
       "      <td>Many make the argument that women are sacred i...</td>\n",
       "      <td>7</td>\n",
       "      <td>Sexual assaults against women are increasing b...</td>\n",
       "    </tr>\n",
       "    <tr>\n",
       "      <th>16</th>\n",
       "      <td>Policy/Economy</td>\n",
       "      <td>https://www.barandbench.com/news/litigation/li...</td>\n",
       "      <td>Live-in relationship not an offence, two conse...</td>\n",
       "      <td>I think this was declared much before. Sadly, ...</td>\n",
       "      <td>NaN</td>\n",
       "      <td>3</td>\n",
       "      <td>Live-in relationship not an offence, two conse...</td>\n",
       "    </tr>\n",
       "    <tr>\n",
       "      <th>17</th>\n",
       "      <td>Business/Finance</td>\n",
       "      <td>https://www.livemint.com/companies/news/tata-n...</td>\n",
       "      <td>Tata nears deal to buy BigBasket for $1.3 bn</td>\n",
       "      <td>They're going to ruin it! \\n\\nTATA all online ...</td>\n",
       "      <td>NaN</td>\n",
       "      <td>8</td>\n",
       "      <td>Tata nears deal to buy BigBasket for $1.3 bn T...</td>\n",
       "    </tr>\n",
       "    <tr>\n",
       "      <th>18</th>\n",
       "      <td>[R]eddiquette</td>\n",
       "      <td>https://i.imgur.com/BR7MIHA.jpg</td>\n",
       "      <td>Moments after a plane landed, 10 min before ga...</td>\n",
       "      <td>What can you expect from people travelling in ...</td>\n",
       "      <td>NaN</td>\n",
       "      <td>7</td>\n",
       "      <td>Moments after a plane landed, 10 min before ga...</td>\n",
       "    </tr>\n",
       "    <tr>\n",
       "      <th>19</th>\n",
       "      <td>Business/Finance</td>\n",
       "      <td>https://i.redd.it/z10cusv41vw51.jpg</td>\n",
       "      <td>Thanks to Lays I don't need a broadband connec...</td>\n",
       "      <td>That’s like 7GB for 80/- . To put into perspec...</td>\n",
       "      <td>NaN</td>\n",
       "      <td>8</td>\n",
       "      <td>Thanks to Lays I don't need a broadband connec...</td>\n",
       "    </tr>\n",
       "  </tbody>\n",
       "</table>\n",
       "</div>"
      ],
      "text/plain": [
       "                 Flair                                                URL  \\\n",
       "0          Coronavirus  https://www.india.com/lifestyle/covid-19-fear-...   \n",
       "1               Sports  https://www.espn.com/chess/story/_/id/29501703...   \n",
       "2   Science/Technology  https://science.thewire.in/the-sciences/oshaug...   \n",
       "3       Policy/Economy  https://www.financialexpress.com/economy/india...   \n",
       "4                 Food  https://www.reddit.com/r/india/comments/k3sklo...   \n",
       "5             AskIndia  https://www.reddit.com/r/india/comments/k70dkk...   \n",
       "6             AskIndia  https://www.reddit.com/r/india/comments/k7r48n...   \n",
       "7               Sports  https://timesofindia.com/sports/tennis/us-open...   \n",
       "8          Coronavirus  https://timesofindia.indiatimes.com/india/astr...   \n",
       "9        Non-Political                    https://v.redd.it/f4fchsepmex51   \n",
       "10  Science/Technology  https://www.reddit.com/r/india/comments/jwrblw...   \n",
       "11       Non-Political  https://www.reddit.com/r/india/comments/k4k41m...   \n",
       "12              Sports        https://www.youtube.com/watch?v=0TpDveaAYvA   \n",
       "13       Non-Political                    https://i.imgur.com/Rv86B53.jpg   \n",
       "14         Coronavirus  https://caravanmagazine.in/commentary/unhealth...   \n",
       "15       [R]eddiquette  https://www.reddit.com/r/india/comments/ckinsv...   \n",
       "16      Policy/Economy  https://www.barandbench.com/news/litigation/li...   \n",
       "17    Business/Finance  https://www.livemint.com/companies/news/tata-n...   \n",
       "18       [R]eddiquette                    https://i.imgur.com/BR7MIHA.jpg   \n",
       "19    Business/Finance                https://i.redd.it/z10cusv41vw51.jpg   \n",
       "\n",
       "                                                Title  \\\n",
       "0   COVID-19 fear delaying cancer care in India: O...   \n",
       "1   66 grandmasters and counting: The story behind...   \n",
       "2   It’s High Time that India Reclaimed Its Ganja ...   \n",
       "3         Indian economy witnessing V-shaped recovery   \n",
       "4       Should I measure my foods cooked or uncooked?   \n",
       "5   'Swadeshi' products are lazy and made just for...   \n",
       "6   how can I as an ordinary citizen, support the ...   \n",
       "7   Sumit Nagal becomes first Indian to win a Gran...   \n",
       "8   AstraZeneca manufacturing error clouds vaccine...   \n",
       "9   Hyderabad cop running for 2 km to help ambulan...   \n",
       "10                       Airtel blocking Mullvad VPN?   \n",
       "11                 Rant about Indian Railways (IRCTC)   \n",
       "12  Behind The Scenes: How Girls from Koovathur ar...   \n",
       "13  Cancellation charge of order value for Groceri...   \n",
       "14  Women healthcare workers battle everyday sexis...   \n",
       "15  Sexual assaults against women are increasing b...   \n",
       "16  Live-in relationship not an offence, two conse...   \n",
       "17       Tata nears deal to buy BigBasket for $1.3 bn   \n",
       "18  Moments after a plane landed, 10 min before ga...   \n",
       "19  Thanks to Lays I don't need a broadband connec...   \n",
       "\n",
       "                                             Comments  \\\n",
       "0   The fear of contracting COVID 19 has kept peop...   \n",
       "1   But we also need to focus on some other sports...   \n",
       "2                                        Yes please.    \n",
       "3                                     V for Wanakkam    \n",
       "4   where are you getting your nutritional informa...   \n",
       "5   Umm yeah...\\n\\nBefore innovation comes a count...   \n",
       "6   Try to buy products from real cooperatives lik...   \n",
       "7                    Wait he defeated Nadal/Federer?    \n",
       "8    AstraZeneca and Oxford University have acknow...   \n",
       "9                                 Bhagwan zinda hain    \n",
       "10  Yeah. There’s something weird. It’s mobile and...   \n",
       "11  With out discounting the issues Indian Railway...   \n",
       "12                                                NaN   \n",
       "13                                            Clint?    \n",
       "14                                                NaN   \n",
       "15                                         [deleted]    \n",
       "16  I think this was declared much before. Sadly, ...   \n",
       "17  They're going to ruin it! \\n\\nTATA all online ...   \n",
       "18  What can you expect from people travelling in ...   \n",
       "19  That’s like 7GB for 80/- . To put into perspec...   \n",
       "\n",
       "                                                 Body  id  \\\n",
       "0                                                 NaN   0   \n",
       "1                                                 NaN   1   \n",
       "2                                                 NaN   2   \n",
       "3                                                 NaN   3   \n",
       "4    Hello guys, as the title says, I had a big do...   4   \n",
       "5   Amongst the 'boycott china' craze (because we ...   5   \n",
       "6   I have seen in videos how hard is for them to ...   5   \n",
       "7                                                 NaN   1   \n",
       "8                                                 NaN   0   \n",
       "9                                                 NaN   6   \n",
       "10  I use Mullvad VPN for obvious reasons. Just no...   2   \n",
       "11  I am here in my car while my dad is driving li...   6   \n",
       "12                                                NaN   1   \n",
       "13                                                NaN   6   \n",
       "14                                                NaN   0   \n",
       "15  Many make the argument that women are sacred i...   7   \n",
       "16                                                NaN   3   \n",
       "17                                                NaN   8   \n",
       "18                                                NaN   7   \n",
       "19                                                NaN   8   \n",
       "\n",
       "                                              Combine  \n",
       "0   COVID-19 fear delaying cancer care in India: O...  \n",
       "1   66 grandmasters and counting: The story behind...  \n",
       "2   It’s High Time that India Reclaimed Its Ganja ...  \n",
       "3   Indian economy witnessing V-shaped recovery V ...  \n",
       "4   Should I measure my foods cooked or uncooked? ...  \n",
       "5   'Swadeshi' products are lazy and made just for...  \n",
       "6   how can I as an ordinary citizen, support the ...  \n",
       "7   Sumit Nagal becomes first Indian to win a Gran...  \n",
       "8   AstraZeneca manufacturing error clouds vaccine...  \n",
       "9   Hyderabad cop running for 2 km to help ambulan...  \n",
       "10  Airtel blocking Mullvad VPN? I use Mullvad VPN...  \n",
       "11  Rant about Indian Railways (IRCTC) I am here i...  \n",
       "12  Behind The Scenes: How Girls from Koovathur ar...  \n",
       "13  Cancellation charge of order value for Groceri...  \n",
       "14  Women healthcare workers battle everyday sexis...  \n",
       "15  Sexual assaults against women are increasing b...  \n",
       "16  Live-in relationship not an offence, two conse...  \n",
       "17  Tata nears deal to buy BigBasket for $1.3 bn T...  \n",
       "18  Moments after a plane landed, 10 min before ga...  \n",
       "19  Thanks to Lays I don't need a broadband connec...  "
      ]
     },
     "execution_count": 11,
     "metadata": {},
     "output_type": "execute_result"
    }
   ],
   "source": [
    "# Creating a combined feature that is combination of the Title, Body and Comments. \n",
    "data['Combine'] = data['Title'] # Create a column combined\n",
    "count = 0\n",
    "for i in range(len(data)):\n",
    "    if type(data.loc[i]['Body']) != float:\n",
    "        data['Combine'][i] = data['Combine'][i] + ' ' + data['Body'][i]\n",
    "\n",
    "    if type(data.loc[i]['Comments']) != float:\n",
    "        data['Combine'][i] = data['Combine'][i] + ' ' + data['Comments'][i]\n",
    "\n",
    "data.head(20)"
   ]
  },
  {
   "cell_type": "markdown",
   "metadata": {},
   "source": [
    "## DATA CLEANING\n",
    "### Stopword Removal"
   ]
  },
  {
   "cell_type": "markdown",
   "metadata": {},
   "source": [
    "Let's make a list of all STOPWORDS to clean the text data. To make searching faster, we only download the stopwords from the english language. Definition: Stopwords are the English words which does not add much meaning to a sentence. They can safely be ignored without sacrificing the meaning of the sentence."
   ]
  },
  {
   "cell_type": "code",
   "execution_count": 12,
   "metadata": {},
   "outputs": [
    {
     "name": "stdout",
     "output_type": "stream",
     "text": [
      "['i', 'me', 'my', 'myself', 'we', 'our', 'ours', 'ourselves', 'you', \"you're\", \"you've\", \"you'll\", \"you'd\", 'your', 'yours', 'yourself', 'yourselves', 'he', 'him', 'his', 'himself', 'she', \"she's\", 'her', 'hers', 'herself', 'it', \"it's\", 'its', 'itself', 'they', 'them', 'their', 'theirs', 'themselves', 'what', 'which', 'who', 'whom', 'this', 'that', \"that'll\", 'these', 'those', 'am', 'is', 'are', 'was', 'were', 'be', 'been', 'being', 'have', 'has', 'had', 'having', 'do', 'does', 'did', 'doing', 'a', 'an', 'the', 'and', 'but', 'if', 'or', 'because', 'as', 'until', 'while', 'of', 'at', 'by', 'for', 'with', 'about', 'against', 'between', 'into', 'through', 'during', 'before', 'after', 'above', 'below', 'to', 'from', 'up', 'down', 'in', 'out', 'on', 'off', 'over', 'under', 'again', 'further', 'then', 'once', 'here', 'there', 'when', 'where', 'why', 'how', 'all', 'any', 'both', 'each', 'few', 'more', 'most', 'other', 'some', 'such', 'no', 'nor', 'not', 'only', 'own', 'same', 'so', 'than', 'too', 'very', 's', 't', 'can', 'will', 'just', 'don', \"don't\", 'should', \"should've\", 'now', 'd', 'll', 'm', 'o', 're', 've', 'y', 'ain', 'aren', \"aren't\", 'couldn', \"couldn't\", 'didn', \"didn't\", 'doesn', \"doesn't\", 'hadn', \"hadn't\", 'hasn', \"hasn't\", 'haven', \"haven't\", 'isn', \"isn't\", 'ma', 'mightn', \"mightn't\", 'mustn', \"mustn't\", 'needn', \"needn't\", 'shan', \"shan't\", 'shouldn', \"shouldn't\", 'wasn', \"wasn't\", 'weren', \"weren't\", 'won', \"won't\", 'wouldn', \"wouldn't\"]\n"
     ]
    },
    {
     "name": "stderr",
     "output_type": "stream",
     "text": [
      "[nltk_data] Downloading package stopwords to\n",
      "[nltk_data]     C:\\Users\\kirtiksingh\\AppData\\Roaming\\nltk_data...\n",
      "[nltk_data]   Package stopwords is already up-to-date!\n"
     ]
    }
   ],
   "source": [
    "nltk.download('stopwords')\n",
    "STOPWORDS = nltk.corpus.stopwords.words('english')\n",
    "# Have a look at the various stopwords\n",
    "print(STOPWORDS)"
   ]
  },
  {
   "cell_type": "markdown",
   "metadata": {},
   "source": [
    "Define a cleaning function to pass our features through for cleaning them.\n"
   ]
  },
  {
   "cell_type": "code",
   "execution_count": 13,
   "metadata": {},
   "outputs": [
    {
     "data": {
      "text/plain": [
       "0    covid fear delaying cancer care india  patient...\n",
       "1     grandmasters counting story behind indias che...\n",
       "2    high time india reclaimed ganja wire science y...\n",
       "3    indian economy witnessing vshaped recovery v w...\n",
       "4    measure foods cooked uncooked hello guys title...\n",
       "5    swadeshi products lazy made quick buck amongst...\n",
       "6    ordinary citizen support farmer seen videos ha...\n",
       "7    sumit nagal becomes first indian win grand sla...\n",
       "8    astrazeneca manufacturing error clouds vaccine...\n",
       "9    hyderabad cop running  km help ambulance get t...\n",
       "Name: Combine, dtype: object"
      ]
     },
     "execution_count": 13,
     "metadata": {},
     "output_type": "execute_result"
    }
   ],
   "source": [
    "REPLACE_SPACES = re.compile('[/(){}\\[\\]\\|@,;]')\n",
    "BAD_SYMBOLS = re.compile('[^0-9a-z #+_]')\n",
    "\n",
    "def clean_text(text):\n",
    "    '''\n",
    "        text: a string\n",
    "        return: modified initial string\n",
    "    '''\n",
    "\n",
    "    text = text.lower() # lowercase text\n",
    "    text = REPLACE_SPACES.sub(' ', text) \n",
    "    text = BAD_SYMBOLS.sub('', text) # Replace Bad Symbols which \n",
    "    text = text.replace('x', '')\n",
    "    \n",
    "    text = ' '.join(word for word in text.split() if word not in STOPWORDS) # remove stopwors from text\n",
    "    return text\n",
    "\n",
    "data['Combine'] = data['Combine'].apply(clean_text)\n",
    "data['Combine'] = data['Combine'].str.replace('\\d+', '')\n",
    "data['Combine'].head(10)"
   ]
  },
  {
   "cell_type": "code",
   "execution_count": 20,
   "metadata": {},
   "outputs": [
    {
     "data": {
      "text/plain": [
       "(1000, 7)"
      ]
     },
     "execution_count": 20,
     "metadata": {},
     "output_type": "execute_result"
    }
   ],
   "source": [
    "data.shape"
   ]
  },
  {
   "cell_type": "code",
   "execution_count": 14,
   "metadata": {},
   "outputs": [
    {
     "data": {
      "text/plain": [
       "Flair         0\n",
       "URL           0\n",
       "Title         0\n",
       "Comments     41\n",
       "Body        660\n",
       "id            0\n",
       "Combine       0\n",
       "dtype: int64"
      ]
     },
     "execution_count": 14,
     "metadata": {},
     "output_type": "execute_result"
    }
   ],
   "source": [
    "# Let's look at the number of empty columns\n",
    "data.isnull().sum()"
   ]
  },
  {
   "cell_type": "markdown",
   "metadata": {},
   "source": [
    "We can see that the body column is empty in 660 out of 1000 rows. We cannot impute this value either because it can have paragraphs. The url feature redirects to the article where the body is missing we can always scrape that, however, doesn't seem like it will help much and it is going to be more difficult to automate the collection of self_text from these external websites. We can get a jist of the content mainly from the title and we can use it for our models. Going forward, I will get rid of the body column but I can still use it for my data analysis section. "
   ]
  },
  {
   "cell_type": "markdown",
   "metadata": {},
   "source": [
    "## Data Cleaning and Preparation\n",
    "\n",
    "In this section, I will be removing unnecessary words, cleaning the dataset and individual sentences. I will also be creating a corpus for further analyses. A corpus is a list containing split() sentences and each word can be accounted for. I will aslo be checking the data quality for any inconsistency and accuracy."
   ]
  },
  {
   "cell_type": "code",
   "execution_count": 21,
   "metadata": {},
   "outputs": [
    {
     "data": {
      "text/plain": [
       "Index(['Flair', 'URL', 'Title', 'Comments', 'Body', 'id', 'Combine'], dtype='object')"
      ]
     },
     "execution_count": 21,
     "metadata": {},
     "output_type": "execute_result"
    }
   ],
   "source": [
    "data.columns"
   ]
  },
  {
   "cell_type": "code",
   "execution_count": 22,
   "metadata": {},
   "outputs": [
    {
     "data": {
      "text/html": [
       "<div>\n",
       "<style scoped>\n",
       "    .dataframe tbody tr th:only-of-type {\n",
       "        vertical-align: middle;\n",
       "    }\n",
       "\n",
       "    .dataframe tbody tr th {\n",
       "        vertical-align: top;\n",
       "    }\n",
       "\n",
       "    .dataframe thead th {\n",
       "        text-align: right;\n",
       "    }\n",
       "</style>\n",
       "<table border=\"1\" class=\"dataframe\">\n",
       "  <thead>\n",
       "    <tr style=\"text-align: right;\">\n",
       "      <th></th>\n",
       "      <th>Flair</th>\n",
       "      <th>URL</th>\n",
       "      <th>Title</th>\n",
       "      <th>Comments</th>\n",
       "      <th>Body</th>\n",
       "      <th>id</th>\n",
       "      <th>Combine</th>\n",
       "    </tr>\n",
       "  </thead>\n",
       "  <tbody>\n",
       "    <tr>\n",
       "      <th>0</th>\n",
       "      <td>Coronavirus</td>\n",
       "      <td>https://www.india.com/lifestyle/covid-19-fear-...</td>\n",
       "      <td>COVID-19 fear delaying cancer care in India: O...</td>\n",
       "      <td>The fear of contracting COVID 19 has kept peop...</td>\n",
       "      <td>NaN</td>\n",
       "      <td>0</td>\n",
       "      <td>covid fear delaying cancer care india  patient...</td>\n",
       "    </tr>\n",
       "    <tr>\n",
       "      <th>1</th>\n",
       "      <td>Sports</td>\n",
       "      <td>https://www.espn.com/chess/story/_/id/29501703...</td>\n",
       "      <td>66 grandmasters and counting: The story behind...</td>\n",
       "      <td>But we also need to focus on some other sports...</td>\n",
       "      <td>NaN</td>\n",
       "      <td>1</td>\n",
       "      <td>grandmasters counting story behind indias che...</td>\n",
       "    </tr>\n",
       "    <tr>\n",
       "      <th>2</th>\n",
       "      <td>Science/Technology</td>\n",
       "      <td>https://science.thewire.in/the-sciences/oshaug...</td>\n",
       "      <td>It’s High Time that India Reclaimed Its Ganja ...</td>\n",
       "      <td>Yes please.</td>\n",
       "      <td>NaN</td>\n",
       "      <td>2</td>\n",
       "      <td>high time india reclaimed ganja wire science y...</td>\n",
       "    </tr>\n",
       "    <tr>\n",
       "      <th>3</th>\n",
       "      <td>Policy/Economy</td>\n",
       "      <td>https://www.financialexpress.com/economy/india...</td>\n",
       "      <td>Indian economy witnessing V-shaped recovery</td>\n",
       "      <td>V for Wanakkam</td>\n",
       "      <td>NaN</td>\n",
       "      <td>3</td>\n",
       "      <td>indian economy witnessing vshaped recovery v w...</td>\n",
       "    </tr>\n",
       "    <tr>\n",
       "      <th>4</th>\n",
       "      <td>Food</td>\n",
       "      <td>https://www.reddit.com/r/india/comments/k3sklo...</td>\n",
       "      <td>Should I measure my foods cooked or uncooked?</td>\n",
       "      <td>where are you getting your nutritional informa...</td>\n",
       "      <td>Hello guys, as the title says, I had a big do...</td>\n",
       "      <td>4</td>\n",
       "      <td>measure foods cooked uncooked hello guys title...</td>\n",
       "    </tr>\n",
       "  </tbody>\n",
       "</table>\n",
       "</div>"
      ],
      "text/plain": [
       "                Flair                                                URL  \\\n",
       "0         Coronavirus  https://www.india.com/lifestyle/covid-19-fear-...   \n",
       "1              Sports  https://www.espn.com/chess/story/_/id/29501703...   \n",
       "2  Science/Technology  https://science.thewire.in/the-sciences/oshaug...   \n",
       "3      Policy/Economy  https://www.financialexpress.com/economy/india...   \n",
       "4                Food  https://www.reddit.com/r/india/comments/k3sklo...   \n",
       "\n",
       "                                               Title  \\\n",
       "0  COVID-19 fear delaying cancer care in India: O...   \n",
       "1  66 grandmasters and counting: The story behind...   \n",
       "2  It’s High Time that India Reclaimed Its Ganja ...   \n",
       "3        Indian economy witnessing V-shaped recovery   \n",
       "4      Should I measure my foods cooked or uncooked?   \n",
       "\n",
       "                                            Comments  \\\n",
       "0  The fear of contracting COVID 19 has kept peop...   \n",
       "1  But we also need to focus on some other sports...   \n",
       "2                                       Yes please.    \n",
       "3                                    V for Wanakkam    \n",
       "4  where are you getting your nutritional informa...   \n",
       "\n",
       "                                                Body  id  \\\n",
       "0                                                NaN   0   \n",
       "1                                                NaN   1   \n",
       "2                                                NaN   2   \n",
       "3                                                NaN   3   \n",
       "4   Hello guys, as the title says, I had a big do...   4   \n",
       "\n",
       "                                             Combine  \n",
       "0  covid fear delaying cancer care india  patient...  \n",
       "1   grandmasters counting story behind indias che...  \n",
       "2  high time india reclaimed ganja wire science y...  \n",
       "3  indian economy witnessing vshaped recovery v w...  \n",
       "4  measure foods cooked uncooked hello guys title...  "
      ]
     },
     "execution_count": 22,
     "metadata": {},
     "output_type": "execute_result"
    }
   ],
   "source": [
    "data.head()"
   ]
  },
  {
   "cell_type": "markdown",
   "metadata": {},
   "source": [
    "To begin with, the coulmn 'unnamed' has come due to index inconsistencies and is of no use to our analysis. Similarly, the columns of ID and subreddit are also not useful since we already know that there is only one subreddit tag. "
   ]
  },
  {
   "cell_type": "markdown",
   "metadata": {},
   "source": [
    "### Flair Data Analysis"
   ]
  },
  {
   "cell_type": "code",
   "execution_count": 24,
   "metadata": {},
   "outputs": [
    {
     "data": {
      "text/plain": [
       "array(['Coronavirus', 'Sports', 'Science/Technology', 'Policy/Economy',\n",
       "       'Food', 'AskIndia', 'Non-Political', '[R]eddiquette',\n",
       "       'Business/Finance', 'Photography'], dtype=object)"
      ]
     },
     "execution_count": 24,
     "metadata": {},
     "output_type": "execute_result"
    }
   ],
   "source": [
    "# Let's review the different Flairs\n",
    "data['Flair'].unique()"
   ]
  },
  {
   "cell_type": "code",
   "execution_count": 25,
   "metadata": {},
   "outputs": [
    {
     "data": {
      "text/plain": [
       "Photography           100\n",
       "AskIndia              100\n",
       "[R]eddiquette         100\n",
       "Business/Finance      100\n",
       "Sports                100\n",
       "Policy/Economy        100\n",
       "Non-Political         100\n",
       "Coronavirus           100\n",
       "Food                  100\n",
       "Science/Technology    100\n",
       "Name: Flair, dtype: int64"
      ]
     },
     "execution_count": 25,
     "metadata": {},
     "output_type": "execute_result"
    }
   ],
   "source": [
    "data['Flair'].value_counts()"
   ]
  },
  {
   "cell_type": "code",
   "execution_count": 26,
   "metadata": {},
   "outputs": [
    {
     "data": {
      "text/plain": [
       "<AxesSubplot:>"
      ]
     },
     "execution_count": 26,
     "metadata": {},
     "output_type": "execute_result"
    },
    {
     "data": {
      "image/png": "[encoded data removed]",
      "text/plain": [
       "<Figure size 1080x432 with 1 Axes>"
      ]
     },
     "metadata": {
      "needs_background": "light"
     },
     "output_type": "display_data"
    }
   ],
   "source": [
    "data['Flair'].value_counts().plot.bar(figsize=(15, 6))"
   ]
  },
  {
   "cell_type": "code",
   "execution_count": 27,
   "metadata": {},
   "outputs": [
    {
     "data": {
      "text/html": [
       "<div>\n",
       "<style scoped>\n",
       "    .dataframe tbody tr th:only-of-type {\n",
       "        vertical-align: middle;\n",
       "    }\n",
       "\n",
       "    .dataframe tbody tr th {\n",
       "        vertical-align: top;\n",
       "    }\n",
       "\n",
       "    .dataframe thead th {\n",
       "        text-align: right;\n",
       "    }\n",
       "</style>\n",
       "<table border=\"1\" class=\"dataframe\">\n",
       "  <thead>\n",
       "    <tr style=\"text-align: right;\">\n",
       "      <th></th>\n",
       "      <th>Flair</th>\n",
       "      <th>URL</th>\n",
       "      <th>Title</th>\n",
       "      <th>Comments</th>\n",
       "      <th>Body</th>\n",
       "      <th>id</th>\n",
       "      <th>Combine</th>\n",
       "    </tr>\n",
       "  </thead>\n",
       "  <tbody>\n",
       "  </tbody>\n",
       "</table>\n",
       "</div>"
      ],
      "text/plain": [
       "Empty DataFrame\n",
       "Columns: [Flair, URL, Title, Comments, Body, id, Combine]\n",
       "Index: []"
      ]
     },
     "execution_count": 27,
     "metadata": {},
     "output_type": "execute_result"
    }
   ],
   "source": [
    "# Let's impute the flair null value\n",
    "data[data['Flair'].isnull()]"
   ]
  },
  {
   "cell_type": "code",
   "execution_count": 28,
   "metadata": {},
   "outputs": [],
   "source": [
    "data.loc[(data['Flair'] == '/r/all') | (data['Flair'] == 'r/all'),  'Flair'] = 'r/all'\n",
    "data.loc[(data['Flair'] == 'Politics') | (data['Flair'] == 'Politics [Megathread]') | (data['Flair'] == 'Politics -- Source in comments'),  'Flair'] = 'Politics' \n",
    "data.loc[(data['Flair'] == 'CAA-NRC-NPR') | (data['Flair'] == 'CAA-NRC'),  'Flair'] = 'CAA-NRC'\n",
    "data.loc[(data['Flair'] == 'Misleading') | (data['Flair'] == 'Misleading Headline '),  'Flair'] = 'Misleading'\n",
    "data.loc[(data['Flair'] == 'Policy & Economy') | (data['Flair'] == 'Policy/Economy -2017 Article ') | (data['Flair'] == 'Policy/Economy'),  'Flair'] = 'Policy/Economy'"
   ]
  },
  {
   "cell_type": "markdown",
   "metadata": {},
   "source": [
    "Collecting the different flairs and labelling them "
   ]
  },
  {
   "cell_type": "code",
   "execution_count": 32,
   "metadata": {},
   "outputs": [
    {
     "data": {
      "text/html": [
       "<div>\n",
       "<style scoped>\n",
       "    .dataframe tbody tr th:only-of-type {\n",
       "        vertical-align: middle;\n",
       "    }\n",
       "\n",
       "    .dataframe tbody tr th {\n",
       "        vertical-align: top;\n",
       "    }\n",
       "\n",
       "    .dataframe thead th {\n",
       "        text-align: right;\n",
       "    }\n",
       "</style>\n",
       "<table border=\"1\" class=\"dataframe\">\n",
       "  <thead>\n",
       "    <tr style=\"text-align: right;\">\n",
       "      <th></th>\n",
       "      <th>Flair</th>\n",
       "      <th>id</th>\n",
       "    </tr>\n",
       "  </thead>\n",
       "  <tbody>\n",
       "    <tr>\n",
       "      <th>0</th>\n",
       "      <td>Coronavirus</td>\n",
       "      <td>0</td>\n",
       "    </tr>\n",
       "    <tr>\n",
       "      <th>1</th>\n",
       "      <td>Sports</td>\n",
       "      <td>1</td>\n",
       "    </tr>\n",
       "    <tr>\n",
       "      <th>2</th>\n",
       "      <td>Science/Technology</td>\n",
       "      <td>2</td>\n",
       "    </tr>\n",
       "    <tr>\n",
       "      <th>3</th>\n",
       "      <td>Policy/Economy</td>\n",
       "      <td>3</td>\n",
       "    </tr>\n",
       "    <tr>\n",
       "      <th>4</th>\n",
       "      <td>Food</td>\n",
       "      <td>4</td>\n",
       "    </tr>\n",
       "    <tr>\n",
       "      <th>5</th>\n",
       "      <td>AskIndia</td>\n",
       "      <td>5</td>\n",
       "    </tr>\n",
       "    <tr>\n",
       "      <th>9</th>\n",
       "      <td>Non-Political</td>\n",
       "      <td>6</td>\n",
       "    </tr>\n",
       "    <tr>\n",
       "      <th>15</th>\n",
       "      <td>[R]eddiquette</td>\n",
       "      <td>7</td>\n",
       "    </tr>\n",
       "    <tr>\n",
       "      <th>17</th>\n",
       "      <td>Business/Finance</td>\n",
       "      <td>8</td>\n",
       "    </tr>\n",
       "    <tr>\n",
       "      <th>51</th>\n",
       "      <td>Photography</td>\n",
       "      <td>9</td>\n",
       "    </tr>\n",
       "  </tbody>\n",
       "</table>\n",
       "</div>"
      ],
      "text/plain": [
       "                 Flair  id\n",
       "0          Coronavirus   0\n",
       "1               Sports   1\n",
       "2   Science/Technology   2\n",
       "3       Policy/Economy   3\n",
       "4                 Food   4\n",
       "5             AskIndia   5\n",
       "9        Non-Political   6\n",
       "15       [R]eddiquette   7\n",
       "17    Business/Finance   8\n",
       "51         Photography   9"
      ]
     },
     "execution_count": 32,
     "metadata": {},
     "output_type": "execute_result"
    }
   ],
   "source": [
    "data['id'] = data['Flair'].factorize()[0]\n",
    "flair_category = data[['Flair', 'id']].drop_duplicates().sort_values('id')\n",
    "flair_category"
   ]
  },
  {
   "cell_type": "code",
   "execution_count": 33,
   "metadata": {},
   "outputs": [
    {
     "name": "stdout",
     "output_type": "stream",
     "text": [
      "{'Coronavirus': 0, 'Sports': 1, 'Science/Technology': 2, 'Policy/Economy': 3, 'Food': 4, 'AskIndia': 5, 'Non-Political': 6, '[R]eddiquette': 7, 'Business/Finance': 8, 'Photography': 9}\n"
     ]
    }
   ],
   "source": [
    "# Convert into a label dctionary to be used as a means of assigning labels after the prediction\n",
    "category_labels = dict(flair_category.values)\n",
    "print(category_labels)"
   ]
  },
  {
   "cell_type": "code",
   "execution_count": 34,
   "metadata": {},
   "outputs": [
    {
     "name": "stdout",
     "output_type": "stream",
     "text": [
      "{0: 'Coronavirus', 1: 'Sports', 2: 'Science/Technology', 3: 'Policy/Economy', 4: 'Food', 5: 'AskIndia', 6: 'Non-Political', 7: '[R]eddiquette', 8: 'Business/Finance', 9: 'Photography'}\n"
     ]
    }
   ],
   "source": [
    "# Similarly, we can create an inverse of the previouus one to convert labels to categories\n",
    "category_reverse = dict(flair_category[['id', 'Flair']].values)\n",
    "print(category_reverse)"
   ]
  },
  {
   "cell_type": "markdown",
   "metadata": {},
   "source": [
    "Have a look at the data now. We have an id column which are basically the labels that we have to predict. They are derived from equivalent flair categories. We will be using the other columns as our input features. We will also create a series of all labels that need to predicted. "
   ]
  },
  {
   "cell_type": "code",
   "execution_count": 35,
   "metadata": {},
   "outputs": [
    {
     "data": {
      "text/html": [
       "<div>\n",
       "<style scoped>\n",
       "    .dataframe tbody tr th:only-of-type {\n",
       "        vertical-align: middle;\n",
       "    }\n",
       "\n",
       "    .dataframe tbody tr th {\n",
       "        vertical-align: top;\n",
       "    }\n",
       "\n",
       "    .dataframe thead th {\n",
       "        text-align: right;\n",
       "    }\n",
       "</style>\n",
       "<table border=\"1\" class=\"dataframe\">\n",
       "  <thead>\n",
       "    <tr style=\"text-align: right;\">\n",
       "      <th></th>\n",
       "      <th>Flair</th>\n",
       "      <th>URL</th>\n",
       "      <th>Title</th>\n",
       "      <th>Comments</th>\n",
       "      <th>Body</th>\n",
       "      <th>id</th>\n",
       "      <th>Combine</th>\n",
       "    </tr>\n",
       "  </thead>\n",
       "  <tbody>\n",
       "    <tr>\n",
       "      <th>0</th>\n",
       "      <td>Coronavirus</td>\n",
       "      <td>https://www.india.com/lifestyle/covid-19-fear-...</td>\n",
       "      <td>COVID-19 fear delaying cancer care in India: O...</td>\n",
       "      <td>The fear of contracting COVID 19 has kept peop...</td>\n",
       "      <td>NaN</td>\n",
       "      <td>0</td>\n",
       "      <td>covid fear delaying cancer care india  patient...</td>\n",
       "    </tr>\n",
       "    <tr>\n",
       "      <th>1</th>\n",
       "      <td>Sports</td>\n",
       "      <td>https://www.espn.com/chess/story/_/id/29501703...</td>\n",
       "      <td>66 grandmasters and counting: The story behind...</td>\n",
       "      <td>But we also need to focus on some other sports...</td>\n",
       "      <td>NaN</td>\n",
       "      <td>1</td>\n",
       "      <td>grandmasters counting story behind indias che...</td>\n",
       "    </tr>\n",
       "    <tr>\n",
       "      <th>2</th>\n",
       "      <td>Science/Technology</td>\n",
       "      <td>https://science.thewire.in/the-sciences/oshaug...</td>\n",
       "      <td>It’s High Time that India Reclaimed Its Ganja ...</td>\n",
       "      <td>Yes please.</td>\n",
       "      <td>NaN</td>\n",
       "      <td>2</td>\n",
       "      <td>high time india reclaimed ganja wire science y...</td>\n",
       "    </tr>\n",
       "    <tr>\n",
       "      <th>3</th>\n",
       "      <td>Policy/Economy</td>\n",
       "      <td>https://www.financialexpress.com/economy/india...</td>\n",
       "      <td>Indian economy witnessing V-shaped recovery</td>\n",
       "      <td>V for Wanakkam</td>\n",
       "      <td>NaN</td>\n",
       "      <td>3</td>\n",
       "      <td>indian economy witnessing vshaped recovery v w...</td>\n",
       "    </tr>\n",
       "    <tr>\n",
       "      <th>4</th>\n",
       "      <td>Food</td>\n",
       "      <td>https://www.reddit.com/r/india/comments/k3sklo...</td>\n",
       "      <td>Should I measure my foods cooked or uncooked?</td>\n",
       "      <td>where are you getting your nutritional informa...</td>\n",
       "      <td>Hello guys, as the title says, I had a big do...</td>\n",
       "      <td>4</td>\n",
       "      <td>measure foods cooked uncooked hello guys title...</td>\n",
       "    </tr>\n",
       "    <tr>\n",
       "      <th>5</th>\n",
       "      <td>AskIndia</td>\n",
       "      <td>https://www.reddit.com/r/india/comments/k70dkk...</td>\n",
       "      <td>'Swadeshi' products are lazy and made just for...</td>\n",
       "      <td>Umm yeah...\\n\\nBefore innovation comes a count...</td>\n",
       "      <td>Amongst the 'boycott china' craze (because we ...</td>\n",
       "      <td>5</td>\n",
       "      <td>swadeshi products lazy made quick buck amongst...</td>\n",
       "    </tr>\n",
       "    <tr>\n",
       "      <th>6</th>\n",
       "      <td>AskIndia</td>\n",
       "      <td>https://www.reddit.com/r/india/comments/k7r48n...</td>\n",
       "      <td>how can I as an ordinary citizen, support the ...</td>\n",
       "      <td>Try to buy products from real cooperatives lik...</td>\n",
       "      <td>I have seen in videos how hard is for them to ...</td>\n",
       "      <td>5</td>\n",
       "      <td>ordinary citizen support farmer seen videos ha...</td>\n",
       "    </tr>\n",
       "    <tr>\n",
       "      <th>7</th>\n",
       "      <td>Sports</td>\n",
       "      <td>https://timesofindia.com/sports/tennis/us-open...</td>\n",
       "      <td>Sumit Nagal becomes first Indian to win a Gran...</td>\n",
       "      <td>Wait he defeated Nadal/Federer?</td>\n",
       "      <td>NaN</td>\n",
       "      <td>1</td>\n",
       "      <td>sumit nagal becomes first indian win grand sla...</td>\n",
       "    </tr>\n",
       "    <tr>\n",
       "      <th>8</th>\n",
       "      <td>Coronavirus</td>\n",
       "      <td>https://timesofindia.indiatimes.com/india/astr...</td>\n",
       "      <td>AstraZeneca manufacturing error clouds vaccine...</td>\n",
       "      <td>AstraZeneca and Oxford University have acknow...</td>\n",
       "      <td>NaN</td>\n",
       "      <td>0</td>\n",
       "      <td>astrazeneca manufacturing error clouds vaccine...</td>\n",
       "    </tr>\n",
       "    <tr>\n",
       "      <th>9</th>\n",
       "      <td>Non-Political</td>\n",
       "      <td>https://v.redd.it/f4fchsepmex51</td>\n",
       "      <td>Hyderabad cop running for 2 km to help ambulan...</td>\n",
       "      <td>Bhagwan zinda hain</td>\n",
       "      <td>NaN</td>\n",
       "      <td>6</td>\n",
       "      <td>hyderabad cop running  km help ambulance get t...</td>\n",
       "    </tr>\n",
       "  </tbody>\n",
       "</table>\n",
       "</div>"
      ],
      "text/plain": [
       "                Flair                                                URL  \\\n",
       "0         Coronavirus  https://www.india.com/lifestyle/covid-19-fear-...   \n",
       "1              Sports  https://www.espn.com/chess/story/_/id/29501703...   \n",
       "2  Science/Technology  https://science.thewire.in/the-sciences/oshaug...   \n",
       "3      Policy/Economy  https://www.financialexpress.com/economy/india...   \n",
       "4                Food  https://www.reddit.com/r/india/comments/k3sklo...   \n",
       "5            AskIndia  https://www.reddit.com/r/india/comments/k70dkk...   \n",
       "6            AskIndia  https://www.reddit.com/r/india/comments/k7r48n...   \n",
       "7              Sports  https://timesofindia.com/sports/tennis/us-open...   \n",
       "8         Coronavirus  https://timesofindia.indiatimes.com/india/astr...   \n",
       "9       Non-Political                    https://v.redd.it/f4fchsepmex51   \n",
       "\n",
       "                                               Title  \\\n",
       "0  COVID-19 fear delaying cancer care in India: O...   \n",
       "1  66 grandmasters and counting: The story behind...   \n",
       "2  It’s High Time that India Reclaimed Its Ganja ...   \n",
       "3        Indian economy witnessing V-shaped recovery   \n",
       "4      Should I measure my foods cooked or uncooked?   \n",
       "5  'Swadeshi' products are lazy and made just for...   \n",
       "6  how can I as an ordinary citizen, support the ...   \n",
       "7  Sumit Nagal becomes first Indian to win a Gran...   \n",
       "8  AstraZeneca manufacturing error clouds vaccine...   \n",
       "9  Hyderabad cop running for 2 km to help ambulan...   \n",
       "\n",
       "                                            Comments  \\\n",
       "0  The fear of contracting COVID 19 has kept peop...   \n",
       "1  But we also need to focus on some other sports...   \n",
       "2                                       Yes please.    \n",
       "3                                    V for Wanakkam    \n",
       "4  where are you getting your nutritional informa...   \n",
       "5  Umm yeah...\\n\\nBefore innovation comes a count...   \n",
       "6  Try to buy products from real cooperatives lik...   \n",
       "7                   Wait he defeated Nadal/Federer?    \n",
       "8   AstraZeneca and Oxford University have acknow...   \n",
       "9                                Bhagwan zinda hain    \n",
       "\n",
       "                                                Body  id  \\\n",
       "0                                                NaN   0   \n",
       "1                                                NaN   1   \n",
       "2                                                NaN   2   \n",
       "3                                                NaN   3   \n",
       "4   Hello guys, as the title says, I had a big do...   4   \n",
       "5  Amongst the 'boycott china' craze (because we ...   5   \n",
       "6  I have seen in videos how hard is for them to ...   5   \n",
       "7                                                NaN   1   \n",
       "8                                                NaN   0   \n",
       "9                                                NaN   6   \n",
       "\n",
       "                                             Combine  \n",
       "0  covid fear delaying cancer care india  patient...  \n",
       "1   grandmasters counting story behind indias che...  \n",
       "2  high time india reclaimed ganja wire science y...  \n",
       "3  indian economy witnessing vshaped recovery v w...  \n",
       "4  measure foods cooked uncooked hello guys title...  \n",
       "5  swadeshi products lazy made quick buck amongst...  \n",
       "6  ordinary citizen support farmer seen videos ha...  \n",
       "7  sumit nagal becomes first indian win grand sla...  \n",
       "8  astrazeneca manufacturing error clouds vaccine...  \n",
       "9  hyderabad cop running  km help ambulance get t...  "
      ]
     },
     "execution_count": 35,
     "metadata": {},
     "output_type": "execute_result"
    }
   ],
   "source": [
    "labels = data['id']\n",
    "data.head(10)"
   ]
  },
  {
   "cell_type": "code",
   "execution_count": 36,
   "metadata": {},
   "outputs": [
    {
     "name": "stdout",
     "output_type": "stream",
     "text": [
      "['i', 'me', 'my', 'myself', 'we', 'our', 'ours', 'ourselves', 'you', \"you're\", \"you've\", \"you'll\", \"you'd\", 'your', 'yours', 'yourself', 'yourselves', 'he', 'him', 'his', 'himself', 'she', \"she's\", 'her', 'hers', 'herself', 'it', \"it's\", 'its', 'itself', 'they', 'them', 'their', 'theirs', 'themselves', 'what', 'which', 'who', 'whom', 'this', 'that', \"that'll\", 'these', 'those', 'am', 'is', 'are', 'was', 'were', 'be', 'been', 'being', 'have', 'has', 'had', 'having', 'do', 'does', 'did', 'doing', 'a', 'an', 'the', 'and', 'but', 'if', 'or', 'because', 'as', 'until', 'while', 'of', 'at', 'by', 'for', 'with', 'about', 'against', 'between', 'into', 'through', 'during', 'before', 'after', 'above', 'below', 'to', 'from', 'up', 'down', 'in', 'out', 'on', 'off', 'over', 'under', 'again', 'further', 'then', 'once', 'here', 'there', 'when', 'where', 'why', 'how', 'all', 'any', 'both', 'each', 'few', 'more', 'most', 'other', 'some', 'such', 'no', 'nor', 'not', 'only', 'own', 'same', 'so', 'than', 'too', 'very', 's', 't', 'can', 'will', 'just', 'don', \"don't\", 'should', \"should've\", 'now', 'd', 'll', 'm', 'o', 're', 've', 'y', 'ain', 'aren', \"aren't\", 'couldn', \"couldn't\", 'didn', \"didn't\", 'doesn', \"doesn't\", 'hadn', \"hadn't\", 'hasn', \"hasn't\", 'haven', \"haven't\", 'isn', \"isn't\", 'ma', 'mightn', \"mightn't\", 'mustn', \"mustn't\", 'needn', \"needn't\", 'shan', \"shan't\", 'shouldn', \"shouldn't\", 'wasn', \"wasn't\", 'weren', \"weren't\", 'won', \"won't\", 'wouldn', \"wouldn't\"]\n"
     ]
    }
   ],
   "source": [
    "# Import nltk stopwords again for reference\n",
    "STOPWORDS = nltk.corpus.stopwords.words('english')\n",
    "print(STOPWORDS)"
   ]
  },
  {
   "cell_type": "code",
   "execution_count": 37,
   "metadata": {},
   "outputs": [
    {
     "name": "stdout",
     "output_type": "stream",
     "text": [
      "<class 'pandas.core.frame.DataFrame'>\n",
      "RangeIndex: 1000 entries, 0 to 999\n",
      "Data columns (total 7 columns):\n",
      " #   Column    Non-Null Count  Dtype \n",
      "---  ------    --------------  ----- \n",
      " 0   Flair     1000 non-null   object\n",
      " 1   URL       1000 non-null   object\n",
      " 2   Title     1000 non-null   object\n",
      " 3   Comments  959 non-null    object\n",
      " 4   Body      340 non-null    object\n",
      " 5   id        1000 non-null   int64 \n",
      " 6   Combine   1000 non-null   object\n",
      "dtypes: int64(1), object(6)\n",
      "memory usage: 54.8+ KB\n"
     ]
    }
   ],
   "source": [
    "data.info()"
   ]
  },
  {
   "cell_type": "code",
   "execution_count": 38,
   "metadata": {
    "scrolled": false
   },
   "outputs": [
    {
     "data": {
      "text/plain": [
       "'would encourage child take motor sport career big fan motorsport especially formula  got interested discovered f browsing channels know motorsport epensive india really good junior championships stuff like mrf formula even people like mick schumacher even nikita mazepin raced guess question people also love motorsport thing motorsports theyre really difficult itll take upto  crores year karting  crores year junior open wheel championships like euro championships super formula f f also preferable get guy something like fda thats whole another thingedit https wwwraconteurnet themillioncostoftheroadtoformulaone'"
      ]
     },
     "execution_count": 38,
     "metadata": {},
     "output_type": "execute_result"
    }
   ],
   "source": [
    "data.loc[34]['Combine']"
   ]
  },
  {
   "cell_type": "code",
   "execution_count": 39,
   "metadata": {},
   "outputs": [],
   "source": [
    "### Cleaning our data that will be used as an input\n",
    "\n",
    "REPLACE_SPACES = re.compile('[/(){}\\[\\]\\|@,;]')\n",
    "BAD_SYMBOLS = re.compile('[^0-9a-z #+_]')"
   ]
  },
  {
   "cell_type": "code",
   "execution_count": 40,
   "metadata": {},
   "outputs": [],
   "source": [
    "###There are certain symbols which add no analytical value to the data. Similarly, there certain areas where there are extra spaces or bracket spaces which are being being substituted by just one space.\n",
    "\n",
    "def clean_text(text):\n",
    "    '''\n",
    "        text: a string\n",
    "        \n",
    "        return: modified initial string\n",
    "        \n",
    "    '''\n",
    "\n",
    "    text = text.lower() # lowercase text\n",
    "    text = REPLACE_SPACES.sub(' ', text) \n",
    "    text = BAD_SYMBOLS.sub('', text) # Replace Bad Symbols which \n",
    "    text = text.replace('x', '')\n",
    "    \n",
    "    text = ' '.join(word for word in text.split() if word not in STOPWORDS) # remove stopwors from text\n",
    "    return text\n",
    "\n",
    "data['Combine'] = data['Combine'].apply(clean_text)\n",
    "data['Combine'] = data['Combine'].str.replace('\\d+', '')"
   ]
  },
  {
   "cell_type": "code",
   "execution_count": 41,
   "metadata": {},
   "outputs": [
    {
     "data": {
      "text/plain": [
       "0    covid fear delaying cancer care india patients...\n",
       "1    grandmasters counting story behind indias ches...\n",
       "2    high time india reclaimed ganja wire science y...\n",
       "3    indian economy witnessing vshaped recovery v w...\n",
       "4    measure foods cooked uncooked hello guys title...\n",
       "5    swadeshi products lazy made quick buck amongst...\n",
       "6    ordinary citizen support farmer seen videos ha...\n",
       "7    sumit nagal becomes first indian win grand sla...\n",
       "8    astrazeneca manufacturing error clouds vaccine...\n",
       "9    hyderabad cop running km help ambulance get tr...\n",
       "Name: Combine, dtype: object"
      ]
     },
     "execution_count": 41,
     "metadata": {},
     "output_type": "execute_result"
    }
   ],
   "source": [
    "data['Combine'].head(10)"
   ]
  },
  {
   "cell_type": "markdown",
   "metadata": {},
   "source": [
    "### TFIDF Feature Importance\n",
    "\n",
    "TFIDF =  Term Frequency–Inverse Document Frequency.\n",
    "It is a numerical statistic that is intended to reflect how important a word is to a document in a collection or corpus."
   ]
  },
  {
   "cell_type": "code",
   "execution_count": 42,
   "metadata": {},
   "outputs": [
    {
     "ename": "NameError",
     "evalue": "name 'TfidfVectorizer' is not defined",
     "output_type": "error",
     "traceback": [
      "\u001b[1;31m---------------------------------------------------------------------------\u001b[0m",
      "\u001b[1;31mNameError\u001b[0m                                 Traceback (most recent call last)",
      "\u001b[1;32m<ipython-input-42-69973f400d69>\u001b[0m in \u001b[0;36m<module>\u001b[1;34m\u001b[0m\n\u001b[0;32m      1\u001b[0m \u001b[1;31m# Creating an instance of the Tfidf vectorizer\u001b[0m\u001b[1;33m\u001b[0m\u001b[1;33m\u001b[0m\u001b[1;33m\u001b[0m\u001b[0m\n\u001b[1;32m----> 2\u001b[1;33m tfidf = TfidfVectorizer(sublinear_tf=True, \n\u001b[0m\u001b[0;32m      3\u001b[0m                         \u001b[0mmin_df\u001b[0m\u001b[1;33m=\u001b[0m\u001b[1;36m5\u001b[0m\u001b[1;33m,\u001b[0m\u001b[1;33m\u001b[0m\u001b[1;33m\u001b[0m\u001b[0m\n\u001b[0;32m      4\u001b[0m                         \u001b[0mnorm\u001b[0m \u001b[1;33m=\u001b[0m \u001b[1;34m'l2'\u001b[0m\u001b[1;33m,\u001b[0m\u001b[1;33m\u001b[0m\u001b[1;33m\u001b[0m\u001b[0m\n\u001b[0;32m      5\u001b[0m                         \u001b[0mencoding\u001b[0m\u001b[1;33m=\u001b[0m\u001b[1;34m'latin-1'\u001b[0m\u001b[1;33m,\u001b[0m\u001b[1;33m\u001b[0m\u001b[1;33m\u001b[0m\u001b[0m\n",
      "\u001b[1;31mNameError\u001b[0m: name 'TfidfVectorizer' is not defined"
     ]
    }
   ],
   "source": [
    "# Creating an instance of the Tfidf vectorizer\n",
    "tfidf = TfidfVectorizer(sublinear_tf=True, \n",
    "                        min_df=5, \n",
    "                        norm = 'l2', \n",
    "                        encoding='latin-1', \n",
    "                        ngram_range=(1, 2))"
   ]
  },
  {
   "cell_type": "markdown",
   "metadata": {},
   "source": [
    "Importing necessary libraries"
   ]
  },
  {
   "cell_type": "code",
   "execution_count": 43,
   "metadata": {},
   "outputs": [],
   "source": [
    "# Data Manipulation \n",
    "import numpy as np \n",
    "import pandas as pd\n",
    "\n",
    "# Data Visualisation \n",
    "import matplotlib.pyplot as plt\n",
    "import seaborn as sns\n",
    "\n",
    "# Statistical libraries \n",
    "from sklearn.feature_selection import chi2\n",
    "\n",
    "# Natural Language Processing\n",
    "import nltk \n",
    "import re\n",
    "from sklearn.feature_extraction.text import CountVectorizer\n",
    "from sklearn.feature_extraction.text import TfidfVectorizer\n",
    "from sklearn.feature_extraction.text import TfidfTransformer\n",
    "\n",
    "# Machine Learning \n",
    "from sklearn.linear_model import LogisticRegression\n",
    "from sklearn.ensemble import RandomForestClassifier\n",
    "from sklearn.svm import SVC\n",
    "from sklearn.naive_bayes import MultinomialNB\n",
    "from sklearn.pipeline import Pipeline\n",
    "\n",
    "# Performance Evaluation and Support\n",
    "from sklearn.model_selection import train_test_split\n",
    "from sklearn.model_selection import cross_val_score\n",
    "from sklearn.model_selection import RandomizedSearchCV\n",
    "from sklearn.model_selection import GridSearchCV\n",
    "from sklearn.metrics import confusion_matrix\n",
    "from sklearn.metrics import accuracy_score\n",
    "from sklearn import metrics\n"
   ]
  },
  {
   "cell_type": "code",
   "execution_count": 44,
   "metadata": {},
   "outputs": [],
   "source": [
    "# Creating an instance of the Tfidf vectorizer\n",
    "tfidf = TfidfVectorizer(sublinear_tf=True, \n",
    "                        min_df=5, \n",
    "                        norm = 'l2', \n",
    "                        encoding='latin-1', \n",
    "                        ngram_range=(1, 2))"
   ]
  },
  {
   "cell_type": "code",
   "execution_count": 45,
   "metadata": {},
   "outputs": [
    {
     "data": {
      "text/html": [
       "<div>\n",
       "<style scoped>\n",
       "    .dataframe tbody tr th:only-of-type {\n",
       "        vertical-align: middle;\n",
       "    }\n",
       "\n",
       "    .dataframe tbody tr th {\n",
       "        vertical-align: top;\n",
       "    }\n",
       "\n",
       "    .dataframe thead th {\n",
       "        text-align: right;\n",
       "    }\n",
       "</style>\n",
       "<table border=\"1\" class=\"dataframe\">\n",
       "  <thead>\n",
       "    <tr style=\"text-align: right;\">\n",
       "      <th></th>\n",
       "      <th>Flair</th>\n",
       "      <th>URL</th>\n",
       "      <th>Title</th>\n",
       "      <th>Comments</th>\n",
       "      <th>Body</th>\n",
       "      <th>id</th>\n",
       "      <th>Combine</th>\n",
       "    </tr>\n",
       "  </thead>\n",
       "  <tbody>\n",
       "    <tr>\n",
       "      <th>995</th>\n",
       "      <td>Coronavirus</td>\n",
       "      <td>https://timesofindia.indiatimes.com/world/uk/c...</td>\n",
       "      <td>Oxford vaccine: Only 3 of 24,000 reacted adver...</td>\n",
       "      <td>The first full results from interim analysis o...</td>\n",
       "      <td>NaN</td>\n",
       "      <td>0</td>\n",
       "      <td>oford vaccine reacted adversely oford vaccine ...</td>\n",
       "    </tr>\n",
       "    <tr>\n",
       "      <th>996</th>\n",
       "      <td>Non-Political</td>\n",
       "      <td>https://timesofindia.indiatimes.com/city/meeru...</td>\n",
       "      <td>Gang-raped &amp; blackmailed, 19-year-old UP law s...</td>\n",
       "      <td>are logo ke insta aur Twitter post kahan h\\n\\n...</td>\n",
       "      <td>NaN</td>\n",
       "      <td>6</td>\n",
       "      <td>gangraped blackmailed yearold law student kill...</td>\n",
       "    </tr>\n",
       "    <tr>\n",
       "      <th>997</th>\n",
       "      <td>Sports</td>\n",
       "      <td>https://www.carandbike.com/news/pune-set-to-ge...</td>\n",
       "      <td>Pune Set To Get A New Race Track, Receives FIA...</td>\n",
       "      <td>While it received FIA accreditation, it will n...</td>\n",
       "      <td>NaN</td>\n",
       "      <td>1</td>\n",
       "      <td>pune set get new race track receives fia accre...</td>\n",
       "    </tr>\n",
       "    <tr>\n",
       "      <th>998</th>\n",
       "      <td>Sports</td>\n",
       "      <td>https://youtu.be/DQPIV9Ov1MQ</td>\n",
       "      <td>Raji: Action-adventure game set in ancient India</td>\n",
       "      <td>Indian lara croft ?</td>\n",
       "      <td>NaN</td>\n",
       "      <td>1</td>\n",
       "      <td>raji actionadventure game set ancient india in...</td>\n",
       "    </tr>\n",
       "    <tr>\n",
       "      <th>999</th>\n",
       "      <td>Food</td>\n",
       "      <td>https://www.downtoearth.org.in/news/health/the...</td>\n",
       "      <td>The Honey Trap</td>\n",
       "      <td>NaN</td>\n",
       "      <td>NaN</td>\n",
       "      <td>4</td>\n",
       "      <td>honey trap</td>\n",
       "    </tr>\n",
       "  </tbody>\n",
       "</table>\n",
       "</div>"
      ],
      "text/plain": [
       "             Flair                                                URL  \\\n",
       "995    Coronavirus  https://timesofindia.indiatimes.com/world/uk/c...   \n",
       "996  Non-Political  https://timesofindia.indiatimes.com/city/meeru...   \n",
       "997         Sports  https://www.carandbike.com/news/pune-set-to-ge...   \n",
       "998         Sports                       https://youtu.be/DQPIV9Ov1MQ   \n",
       "999           Food  https://www.downtoearth.org.in/news/health/the...   \n",
       "\n",
       "                                                 Title  \\\n",
       "995  Oxford vaccine: Only 3 of 24,000 reacted adver...   \n",
       "996  Gang-raped & blackmailed, 19-year-old UP law s...   \n",
       "997  Pune Set To Get A New Race Track, Receives FIA...   \n",
       "998   Raji: Action-adventure game set in ancient India   \n",
       "999                                     The Honey Trap   \n",
       "\n",
       "                                              Comments Body  id  \\\n",
       "995  The first full results from interim analysis o...  NaN   0   \n",
       "996  are logo ke insta aur Twitter post kahan h\\n\\n...  NaN   6   \n",
       "997  While it received FIA accreditation, it will n...  NaN   1   \n",
       "998                               Indian lara croft ?   NaN   1   \n",
       "999                                                NaN  NaN   4   \n",
       "\n",
       "                                               Combine  \n",
       "995  oford vaccine reacted adversely oford vaccine ...  \n",
       "996  gangraped blackmailed yearold law student kill...  \n",
       "997  pune set get new race track receives fia accre...  \n",
       "998  raji actionadventure game set ancient india in...  \n",
       "999                                         honey trap  "
      ]
     },
     "execution_count": 45,
     "metadata": {},
     "output_type": "execute_result"
    }
   ],
   "source": [
    "data.tail()"
   ]
  },
  {
   "cell_type": "code",
   "execution_count": 46,
   "metadata": {},
   "outputs": [
    {
     "name": "stdout",
     "output_type": "stream",
     "text": [
      "(1000, 2161)\n"
     ]
    }
   ],
   "source": [
    "# Extracting the features by fitting the Vectorizer on our Title data because that has the description of the post\n",
    "feat = tfidf.fit_transform(data['Combine']).toarray()\n",
    "print(feat.shape)"
   ]
  },
  {
   "cell_type": "markdown",
   "metadata": {},
   "source": [
    "Now, I need to look at the most correlated words with each category and list them. I am gonna look at monograms."
   ]
  },
  {
   "cell_type": "code",
   "execution_count": 47,
   "metadata": {},
   "outputs": [
    {
     "name": "stdout",
     "output_type": "stream",
     "text": [
      "\n",
      "Flair 'AskIndia':\n",
      "Most correlated unigrams:\n",
      "\t. find\n",
      "\t. life\n",
      "\t. family\n",
      "\t. job\n",
      "\t. marriage\n",
      "Most correlated bigrams:\n",
      "\t. people like\n",
      "\t. multiple times\n",
      "\t. arranged marriage\n",
      "\t. dont know\n",
      "\t. get married\n",
      "\n",
      "Flair 'Business/Finance':\n",
      "Most correlated unigrams:\n",
      "\t. defamation\n",
      "\t. pradeep\n",
      "\t. jr\n",
      "\t. poonia\n",
      "\t. whitehat\n",
      "Most correlated bigrams:\n",
      "\t. white hat\n",
      "\t. hat jr\n",
      "\t. wolf gupta\n",
      "\t. pradeep poonia\n",
      "\t. whitehat jr\n",
      "\n",
      "Flair 'Coronavirus':\n",
      "Most correlated unigrams:\n",
      "\t. institute\n",
      "\t. cases\n",
      "\t. serum\n",
      "\t. vaccine\n",
      "\t. covid\n",
      "Most correlated bigrams:\n",
      "\t. get vaccine\n",
      "\t. million covid\n",
      "\t. serum institute\n",
      "\t. covid cases\n",
      "\t. covid vaccine\n",
      "\n",
      "Flair 'Food':\n",
      "Most correlated unigrams:\n",
      "\t. chicken\n",
      "\t. recipe\n",
      "\t. made\n",
      "\t. paneer\n",
      "\t. homemade\n",
      "Most correlated bigrams:\n",
      "\t. one time\n",
      "\t. please let\n",
      "\t. look like\n",
      "\t. ice cream\n",
      "\t. desi chef\n",
      "\n",
      "Flair 'Non-Political':\n",
      "Most correlated unigrams:\n",
      "\t. police\n",
      "\t. pollution\n",
      "\t. ki\n",
      "\t. cop\n",
      "\t. yearold\n",
      "Most correlated bigrams:\n",
      "\t. social media\n",
      "\t. im sure\n",
      "\t. mental health\n",
      "\t. rs crore\n",
      "\t. net day\n",
      "\n",
      "Flair 'Photography':\n",
      "Most correlated unigrams:\n",
      "\t. lens\n",
      "\t. oneplus\n",
      "\t. beautiful\n",
      "\t. canon\n",
      "\t. oc\n",
      "Most correlated bigrams:\n",
      "\t. mm kit\n",
      "\t. canon mm\n",
      "\t. using canon\n",
      "\t. nikon oc\n",
      "\t. kit lens\n",
      "\n",
      "Flair 'Policy/Economy':\n",
      "Most correlated unigrams:\n",
      "\t. protests\n",
      "\t. recession\n",
      "\t. policies\n",
      "\t. farmers\n",
      "\t. economy\n",
      "Most correlated bigrams:\n",
      "\t. people dont\n",
      "\t. rs crore\n",
      "\t. times india\n",
      "\t. supreme court\n",
      "\t. rs per\n",
      "\n",
      "Flair 'Science/Technology':\n",
      "Most correlated unigrams:\n",
      "\t. android\n",
      "\t. science\n",
      "\t. installed\n",
      "\t. computer\n",
      "\t. speeds\n",
      "Most correlated bigrams:\n",
      "\t. timesofindiaindiatimescom india\n",
      "\t. https timesofindiaindiatimescom\n",
      "\t. high time\n",
      "\t. wwwyoutubecom channel\n",
      "\t. came across\n",
      "\n",
      "Flair 'Sports':\n",
      "Most correlated unigrams:\n",
      "\t. player\n",
      "\t. cricket\n",
      "\t. sports\n",
      "\t. chess\n",
      "\t. ipl\n",
      "Most correlated bigrams:\n",
      "\t. covid vaccine\n",
      "\t. really good\n",
      "\t. whitehat jr\n",
      "\t. make sure\n",
      "\t. feel free\n",
      "\n",
      "Flair '[R]eddiquette':\n",
      "Most correlated unigrams:\n",
      "\t. beep\n",
      "\t. boop\n",
      "\t. askaway\n",
      "\t. thread\n",
      "\t. bot\n",
      "Most correlated bigrams:\n",
      "\t. bot problem\n",
      "\t. bot bot\n",
      "\t. problem askaway\n",
      "\t. boop bot\n",
      "\t. discussion thread\n"
     ]
    }
   ],
   "source": [
    "# chisq2 statistical test\n",
    "N = 5    # Number of examples to be listed\n",
    "for f, i in sorted(category_labels.items()):\n",
    "    chi2_feat = chi2(feat, labels == i)\n",
    "    indices = np.argsort(chi2_feat[0])\n",
    "    feat_names = np.array(tfidf.get_feature_names())[indices]\n",
    "    unigrams = [w for w in feat_names if len(w.split(' ')) == 1]\n",
    "    bigrams = [w for w in feat_names if len(w.split(' ')) == 2]\n",
    "    print(\"\\nFlair '{}':\".format(f))\n",
    "    print(\"Most correlated unigrams:\\n\\t. {}\".format('\\n\\t. '.join(unigrams[-N:])))\n",
    "    print(\"Most correlated bigrams:\\n\\t. {}\".format('\\n\\t. '.join(bigrams[-N:])))"
   ]
  },
  {
   "cell_type": "markdown",
   "metadata": {},
   "source": [
    "### Model Input Preparation"
   ]
  },
  {
   "cell_type": "code",
   "execution_count": 48,
   "metadata": {},
   "outputs": [
    {
     "data": {
      "text/plain": [
       "['Coronavirus',\n",
       " 'Sports',\n",
       " 'Science/Technology',\n",
       " 'Policy/Economy',\n",
       " 'Food',\n",
       " 'AskIndia',\n",
       " 'Non-Political',\n",
       " '[R]eddiquette',\n",
       " 'Business/Finance',\n",
       " 'Photography']"
      ]
     },
     "execution_count": 48,
     "metadata": {},
     "output_type": "execute_result"
    }
   ],
   "source": [
    "flair_list = list(category_labels.keys())\n",
    "flair_list"
   ]
  },
  {
   "cell_type": "code",
   "execution_count": 49,
   "metadata": {},
   "outputs": [
    {
     "name": "stdout",
     "output_type": "stream",
     "text": [
      "(850,) (850,) (150,) (150,)\n"
     ]
    }
   ],
   "source": [
    "# Splitting 20% of the data into train test split\n",
    "X_train, X_test, y_train, y_test = train_test_split(data['Combine'], data['Flair'], test_size=0.15, random_state=42)\n",
    "print(X_train.shape, y_train.shape, X_test.shape, y_test.shape)"
   ]
  },
  {
   "cell_type": "markdown",
   "metadata": {},
   "source": [
    "I randomized the training and testing data for better predictions. This is very important since the data has homogenous flairs for every 150 entries. \n"
   ]
  },
  {
   "cell_type": "markdown",
   "metadata": {},
   "source": [
    "## Building our classifiers\n",
    "\n",
    "I will be building functions for different clasifiers. These functions will have a pipeline implemented for each model. This pipeline will first create an instance of the Count Vectorizer to create vectors of word counts and then it will also implement a TFID Transformer. \n"
   ]
  },
  {
   "cell_type": "code",
   "execution_count": 50,
   "metadata": {},
   "outputs": [
    {
     "name": "stdout",
     "output_type": "stream",
     "text": [
      "  (0, 4819)\t2\n",
      "  (0, 3364)\t2\n",
      "  (0, 6679)\t1\n",
      "  (0, 2026)\t1\n",
      "  (0, 9899)\t1\n",
      "  (0, 10094)\t1\n",
      "  (0, 9187)\t1\n",
      "  (0, 7774)\t1\n",
      "  (0, 10224)\t1\n",
      "  (0, 9848)\t1\n",
      "  (0, 8452)\t1\n",
      "  (0, 6680)\t1\n",
      "  (1, 7123)\t1\n",
      "  (1, 5519)\t1\n",
      "  (1, 2366)\t2\n",
      "  (1, 569)\t1\n",
      "  (1, 9845)\t1\n",
      "  (1, 3121)\t1\n",
      "  (1, 2570)\t1\n",
      "  (1, 11823)\t1\n",
      "  (1, 5518)\t5\n",
      "  (1, 8243)\t4\n",
      "  (1, 11594)\t2\n",
      "  (1, 1747)\t1\n",
      "  (1, 9448)\t2\n",
      "  :\t:\n",
      "  (848, 690)\t1\n",
      "  (848, 2463)\t1\n",
      "  (848, 9801)\t1\n",
      "  (848, 6747)\t1\n",
      "  (848, 650)\t1\n",
      "  (848, 1075)\t1\n",
      "  (848, 2606)\t1\n",
      "  (849, 5121)\t2\n",
      "  (849, 878)\t1\n",
      "  (849, 10651)\t1\n",
      "  (849, 1312)\t1\n",
      "  (849, 10342)\t1\n",
      "  (849, 6341)\t1\n",
      "  (849, 8849)\t1\n",
      "  (849, 1760)\t1\n",
      "  (849, 9031)\t1\n",
      "  (849, 2600)\t1\n",
      "  (849, 9961)\t1\n",
      "  (849, 7628)\t1\n",
      "  (849, 11648)\t1\n",
      "  (849, 2588)\t1\n",
      "  (849, 983)\t1\n",
      "  (849, 4605)\t1\n",
      "  (849, 6385)\t1\n",
      "  (849, 6493)\t1\n"
     ]
    }
   ],
   "source": [
    "# Creating an instance of the TFID transformer\n",
    "count_vec = CountVectorizer()\n",
    "X_train_counts = count_vec.fit_transform(X_train)\n",
    "print(X_train_counts)"
   ]
  },
  {
   "cell_type": "code",
   "execution_count": 51,
   "metadata": {},
   "outputs": [
    {
     "name": "stdout",
     "output_type": "stream",
     "text": [
      "  (0, 10224)\t0.20763716936926732\n",
      "  (0, 10094)\t0.29807871263668106\n",
      "  (0, 9899)\t0.21019923237956417\n",
      "  (0, 9848)\t0.26878555255097547\n",
      "  (0, 9187)\t0.2260341885120926\n",
      "  (0, 8452)\t0.22235699228751027\n",
      "  (0, 7774)\t0.11944808262274936\n",
      "  (0, 6680)\t0.29807871263668106\n",
      "  (0, 6679)\t0.28094331245892157\n",
      "  (0, 4819)\t0.46902950439091273\n",
      "  (0, 3364)\t0.46902950439091273\n",
      "  (0, 2026)\t0.17043224418361605\n",
      "  (1, 11897)\t0.09445641181710636\n",
      "  (1, 11823)\t0.08693568269807521\n",
      "  (1, 11594)\t0.12920017099423925\n",
      "  (1, 11409)\t0.08693568269807521\n",
      "  (1, 11279)\t0.12920017099423925\n",
      "  (1, 11273)\t0.06188291462638738\n",
      "  (1, 10119)\t0.12005831347981509\n",
      "  (1, 10052)\t0.09646127519905279\n",
      "  (1, 9845)\t0.08819712377788193\n",
      "  (1, 9448)\t0.17387136539615042\n",
      "  (1, 9143)\t0.2059369582443671\n",
      "  (1, 9003)\t0.10825979433943393\n",
      "  (1, 8886)\t0.07396279000815285\n",
      "  :\t:\n",
      "  (848, 1304)\t0.3464806160273115\n",
      "  (848, 1285)\t0.17561257631815708\n",
      "  (848, 1075)\t0.24252124196029412\n",
      "  (848, 1027)\t0.17561257631815708\n",
      "  (848, 690)\t0.17561257631815708\n",
      "  (848, 650)\t0.22857962735844184\n",
      "  (848, 136)\t0.16697131759351594\n",
      "  (849, 11648)\t0.25971249512890154\n",
      "  (849, 10651)\t0.18487987065886585\n",
      "  (849, 10342)\t0.1667213288816598\n",
      "  (849, 9961)\t0.250600530444804\n",
      "  (849, 9031)\t0.21158265835724713\n",
      "  (849, 8849)\t0.1582424705514736\n",
      "  (849, 7628)\t0.2265985312795674\n",
      "  (849, 6493)\t0.28801684267982186\n",
      "  (849, 6385)\t0.28801684267982186\n",
      "  (849, 6341)\t0.13947767841727768\n",
      "  (849, 5121)\t0.27683396266147897\n",
      "  (849, 4605)\t0.28801684267982186\n",
      "  (849, 2600)\t0.23140814757798125\n",
      "  (849, 2588)\t0.28801684267982186\n",
      "  (849, 1760)\t0.23686084081803696\n",
      "  (849, 1312)\t0.20573920096921663\n",
      "  (849, 983)\t0.28801684267982186\n",
      "  (849, 878)\t0.15419613894076\n"
     ]
    }
   ],
   "source": [
    "# Creating an instance of the TFID transformer\n",
    "tfidf_trans = TfidfTransformer()\n",
    "X_train_tfidf = tfidf_trans.fit_transform(X_train_counts)\n",
    "print(X_train_tfidf)"
   ]
  },
  {
   "cell_type": "code",
   "execution_count": 52,
   "metadata": {},
   "outputs": [],
   "source": [
    "# Model input Sequences\n",
    "pre_train = Pipeline([('vect', CountVectorizer()),('tfidf', TfidfTransformer())])"
   ]
  },
  {
   "cell_type": "markdown",
   "metadata": {},
   "source": [
    "### Naive Bayes Classifier Pipeline\n",
    "The first one that I am building is the Naive Bayes Classifier. The one most suitable for word counts is the multinomial variant"
   ]
  },
  {
   "cell_type": "code",
   "execution_count": 53,
   "metadata": {},
   "outputs": [],
   "source": [
    "def nb_classifier(X_train, X_test, y_train, y_test):\n",
    "    \n",
    "    nb_fit = Pipeline([('vect', CountVectorizer()),\n",
    "                  ('tfidf', TfidfTransformer()),\n",
    "                  ('model', MultinomialNB()),\n",
    "                 ])\n",
    "    nb_fit.fit(X_train, y_train)    # Fitting the data to the trianing data\n",
    "    \n",
    "    # Making Predictions on the test data\n",
    "    y_pred = nb_fit.predict(X_test)\n",
    "    acc = accuracy_score(y_pred=y_pred, y_true=y_test)\n",
    "    print(\"Model Accuracy: {}\".format(acc))"
   ]
  },
  {
   "cell_type": "markdown",
   "metadata": {},
   "source": [
    "### Logistic Regression Model"
   ]
  },
  {
   "cell_type": "code",
   "execution_count": 54,
   "metadata": {},
   "outputs": [],
   "source": [
    "def log_reg(X_train, X_test, y_train, y_test):\n",
    "    \n",
    "    logreg = Pipeline([('vect', CountVectorizer()),\n",
    "                  ('tfidf', TfidfTransformer()),\n",
    "                  ('model', LogisticRegression()),\n",
    "                 ])\n",
    "    logreg.fit(X_train, y_train)     # Fitting the data to the trianing data\n",
    "\n",
    "    # Making Predictions on the test data\n",
    "    y_pred = logreg.predict(X_test)\n",
    "    acc = accuracy_score(y_pred=y_pred, y_true=y_test)\n",
    "    print(\"Model Accuracy: {}\".format(acc))"
   ]
  },
  {
   "cell_type": "markdown",
   "metadata": {},
   "source": [
    "### Random Forest Model"
   ]
  },
  {
   "cell_type": "code",
   "execution_count": 55,
   "metadata": {},
   "outputs": [],
   "source": [
    "def random_forest(X_train, X_test, y_train, y_test):\n",
    "    \n",
    "    forest = Pipeline([('vect', CountVectorizer()),\n",
    "                  ('tfidf', TfidfTransformer()),\n",
    "                  ('model', RandomForestClassifier()),\n",
    "                 ])\n",
    "    forest.fit(X_train, y_train)    # Fitting the data to the trianing data\n",
    "    \n",
    "    # Making Predictions on the test data\n",
    "    y_pred = forest.predict(X_test)\n",
    "    acc = accuracy_score(y_pred=y_pred, y_true=y_test)\n",
    "    print(\"Model Accuracy: {}\".format(acc))"
   ]
  },
  {
   "cell_type": "markdown",
   "metadata": {},
   "source": [
    "### Linear SVC"
   ]
  },
  {
   "cell_type": "code",
   "execution_count": 56,
   "metadata": {},
   "outputs": [],
   "source": [
    "def svc(X_train, X_test, y_train, y_test):\n",
    "    \n",
    "    svc_fit = Pipeline([('vect', CountVectorizer()),\n",
    "                  ('tfidf', TfidfTransformer()),\n",
    "                  ('model', SVC()),\n",
    "                 ])\n",
    "    svc_fit.fit(X_train, y_train)    # Fitting the data to the trianing data\n",
    "    \n",
    "    # Making Predictions on the test data\n",
    "    y_pred = svc_fit.predict(X_test)\n",
    "    acc = accuracy_score(y_pred=y_pred, y_true=y_test)\n",
    "    print(\"Model Accuracy: {}\".format(acc))"
   ]
  },
  {
   "cell_type": "code",
   "execution_count": 60,
   "metadata": {},
   "outputs": [],
   "source": [
    "X_test_counts = count_vec.transform(X_test)\n",
    "X_test_tfidf = tfidf_trans.transform(X_test_counts)"
   ]
  },
  {
   "cell_type": "code",
   "execution_count": 61,
   "metadata": {},
   "outputs": [
    {
     "data": {
      "text/plain": [
       "0.56"
      ]
     },
     "execution_count": 61,
     "metadata": {},
     "output_type": "execute_result"
    }
   ],
   "source": [
    "log_model = SVC()\n",
    "log_model.fit(X_train_tfidf, y_train)\n",
    "\n",
    "y_pred = log_model.predict(X_test_tfidf)\n",
    "accuracy_score(y_pred=y_pred, y_true=y_test)"
   ]
  },
  {
   "cell_type": "markdown",
   "metadata": {},
   "source": [
    "### Making predictions."
   ]
  },
  {
   "cell_type": "code",
   "execution_count": 62,
   "metadata": {},
   "outputs": [
    {
     "name": "stdout",
     "output_type": "stream",
     "text": [
      "Evaluate Naive Bayes Classifier\n",
      "Model Accuracy: 0.56\n",
      "Evaluate Random Forest Classifier\n",
      "Model Accuracy: 0.5333333333333333\n",
      "Evaluate Logistic Regression Model\n",
      "Model Accuracy: 0.62\n",
      "Evaluate SVC Model\n",
      "Model Accuracy: 0.56\n"
     ]
    }
   ],
   "source": [
    "print(\"Evaluate Naive Bayes Classifier\")\n",
    "nb_classifier(X_train, X_test, y_train, y_test)\n",
    "\n",
    "print(\"Evaluate Random Forest Classifier\")\n",
    "random_forest(X_train, X_test, y_train, y_test)\n",
    "\n",
    "print(\"Evaluate Logistic Regression Model\")\n",
    "log_reg(X_train, X_test, y_train, y_test)\n",
    "\n",
    "print(\"Evaluate SVC Model\")\n",
    "svc(X_train, X_test, y_train, y_test)"
   ]
  },
  {
   "cell_type": "markdown",
   "metadata": {},
   "source": [
    "## Pipelining\n",
    "\n",
    "There are many moving parts in a Machine Learning (ML) model that have to be tied together for an ML model to execute and produce results successfully. Each stage of a pipeline is fed data processed from its preceding stage; that is, the output of a processing unit is supplied as the input to the next step. In software engineering, people build pipelines to develop software that is exercised from source code to deployment. Similarly, in ML, a pipeline is created to allow data flow from its raw format to some useful information. The data flows through the pipeline just as water flows in a pipe. Mastering the pipeline concept is a powerful way to create error-free ML models, and pipelines are a crucial element of an AutoML system. It provides a mechanism to construct a multi-ML parallel pipeline system in order to compare the results of several ML methods. Here’s what our pipeline will look like."
   ]
  },
  {
   "cell_type": "code",
   "execution_count": 63,
   "metadata": {},
   "outputs": [],
   "source": [
    "# Naive Bayes Classifier \n",
    "def nb_classifier(X_train, X_test, y_train, y_test):\n",
    "    \n",
    "    nb_fit = Pipeline([('vect', CountVectorizer()),\n",
    "                  ('tfidf', TfidfTransformer()),\n",
    "                  ('model', MultinomialNB()),\n",
    "                 ])\n",
    "    nb_fit.fit(X_train, y_train)    # Fitting the data to the trianing data\n",
    "    \n",
    "    # Making Predictions on the test data\n",
    "    y_pred = nb_fit.predict(X_test)\n",
    "    acc = accuracy_score(y_pred=y_pred, y_true=y_test)\n",
    "    print(\"Model Accuracy: {}\".format(acc))\n",
    "    \n",
    "\n",
    "# Random Forest Classifier\n",
    "def random_forest(X_train, X_test, y_train, y_test):\n",
    "    \n",
    "    forest = Pipeline([('vect', CountVectorizer()),\n",
    "                  ('tfidf', TfidfTransformer()),\n",
    "                  ('model', RandomForestClassifier()),\n",
    "                 ])\n",
    "    forest.fit(X_train, y_train)    # Fitting the data to the trianing data\n",
    "    \n",
    "    # Making Predictions on the test data\n",
    "    y_pred = forest.predict(X_test)\n",
    "    acc = accuracy_score(y_pred=y_pred, y_true=y_test)\n",
    "    print(\"Model Accuracy: {}\".format(acc))\n",
    "\n",
    "# Support Vector Machines Classifier \n",
    "def svc(X_train, X_test, y_train, y_test):\n",
    "    \n",
    "    svc_fit = Pipeline([('vect', CountVectorizer()),\n",
    "                  ('tfidf', TfidfTransformer()),\n",
    "                  ('model', SVC()),\n",
    "                 ])\n",
    "    svc_fit.fit(X_train, y_train)    # Fitting the data to the trianing data\n",
    "    \n",
    "    # Making Predictions on the test data\n",
    "    y_pred = svc_fit.predict(X_test)\n",
    "    acc = accuracy_score(y_pred=y_pred, y_true=y_test)\n",
    "    print(\"Model Accuracy: {}\".format(acc))\n",
    "\n",
    "# Logistic Regression Classifier \n",
    "def log_reg(X_train, X_test, y_train, y_test):\n",
    "    \n",
    "    logreg = Pipeline([('vect', CountVectorizer()),\n",
    "                  ('tfidf', TfidfTransformer()),\n",
    "                  ('model', LogisticRegression()),\n",
    "                 ])\n",
    "    logreg.fit(X_train, y_train)     # Fitting the data to the trianing data\n",
    "\n",
    "    # Making Predictions on the test data\n",
    "    y_pred = logreg.predict(X_test)\n",
    "    acc = accuracy_score(y_pred=y_pred, y_true=y_test)\n",
    "    print(\"Model Accuracy: {}\".format(acc))\n",
    "\n"
   ]
  },
  {
   "cell_type": "markdown",
   "metadata": {},
   "source": [
    "## Making Predictions and Evaluating Results\n",
    "\n",
    "Making functions like the ones created above modularize your code and make your task easier. Now you can make predictions and evaluate results conveniently."
   ]
  },
  {
   "cell_type": "code",
   "execution_count": 68,
   "metadata": {},
   "outputs": [
    {
     "name": "stdout",
     "output_type": "stream",
     "text": [
      "Evaluate Naive Bayes Classifier\n",
      "Model Accuracy: 0.56\n",
      "Evaluate Random Forest Classifier\n",
      "Model Accuracy: 0.5133333333333333\n",
      "Evaluate Logistic Regression Model\n",
      "Model Accuracy: 0.62\n",
      "Evaluate SVC Model\n",
      "Model Accuracy: 0.56\n"
     ]
    }
   ],
   "source": [
    "print(\"Evaluate Naive Bayes Classifier\")\n",
    "nb_classifier(X_train, X_test, y_train, y_test)\n",
    "print(\"Evaluate Random Forest Classifier\")\n",
    "random_forest(X_train, X_test, y_train, y_test)\n",
    "print(\"Evaluate Logistic Regression Model\")\n",
    "log_reg(X_train, X_test, y_train, y_test)\n",
    "print(\"Evaluate SVC Model\")\n",
    "svc(X_train, X_test, y_train, y_test)"
   ]
  },
  {
   "cell_type": "code",
   "execution_count": 69,
   "metadata": {},
   "outputs": [
    {
     "ename": "IndentationError",
     "evalue": "unexpected indent (<ipython-input-69-c744e7eb3dba>, line 5)",
     "output_type": "error",
     "traceback": [
      "\u001b[1;36m  File \u001b[1;32m\"<ipython-input-69-c744e7eb3dba>\"\u001b[1;36m, line \u001b[1;32m5\u001b[0m\n\u001b[1;33m    logreg.fit(X_train, y_train)     # Fitting the data to the trianing data\u001b[0m\n\u001b[1;37m    ^\u001b[0m\n\u001b[1;31mIndentationError\u001b[0m\u001b[1;31m:\u001b[0m unexpected indent\n"
     ]
    }
   ],
   "source": [
    "logreg = Pipeline([('vect', CountVectorizer()),\n",
    "                  ('tfidf', TfidfTransformer()),\n",
    "                  ('model', LogisticRegression()),\n",
    "                 ])\n",
    "    logreg.fit(X_train, y_train)     # Fitting the data to the trianing data\n"
   ]
  },
  {
   "cell_type": "code",
   "execution_count": 79,
   "metadata": {},
   "outputs": [
    {
     "data": {
      "text/plain": [
       "Pipeline(steps=[('vect', CountVectorizer()), ('tfidf', TfidfTransformer()),\n",
       "                ('model', LogisticRegression())])"
      ]
     },
     "execution_count": 79,
     "metadata": {},
     "output_type": "execute_result"
    }
   ],
   "source": [
    "model = Pipeline([('vect', CountVectorizer()),\n",
    "                  ('tfidf', TfidfTransformer()),\n",
    "                  ('model', LogisticRegression()),\n",
    "                 ])\n",
    "logreg.fit(X_train, y_train)     # Fitting the data to the trianing data\n"
   ]
  },
  {
   "cell_type": "code",
   "execution_count": 85,
   "metadata": {},
   "outputs": [
    {
     "data": {
      "text/plain": [
       "Pipeline(steps=[('vect', CountVectorizer()), ('tfidf', TfidfTransformer()),\n",
       "                ('model', MultinomialNB(alpha=0.01))])"
      ]
     },
     "execution_count": 85,
     "metadata": {},
     "output_type": "execute_result"
    }
   ],
   "source": [
    "nb_classifier = Pipeline([('vect', CountVectorizer()),\n",
    "                  ('tfidf', TfidfTransformer()),\n",
    "                  ('model', MultinomialNB(alpha=0.01)),\n",
    "                 ])\n",
    "\n",
    "nb_classifier.fit(X_train, y_train)"
   ]
  },
  {
   "cell_type": "code",
   "execution_count": 86,
   "metadata": {},
   "outputs": [
    {
     "data": {
      "text/plain": [
       "['final_model.sav']"
      ]
     },
     "execution_count": 86,
     "metadata": {},
     "output_type": "execute_result"
    }
   ],
   "source": [
    "import joblib \n",
    "\n",
    "filename = 'final_model.sav'\n",
    "joblib.dump(nb_classifier, filename)"
   ]
  },
  {
   "cell_type": "markdown",
   "metadata": {},
   "source": [
    "## Performance explanation\n",
    "\n",
    "I have found out certain reasons for my model performance. While some issues are there with the method of implementation, and the model type and parameters, there are issues which can also be attributed to the data quality. \n",
    "\n",
    "### Data Quality\n",
    "\n",
    "The data quality issues is one of the biggest issues with this current model. Some issues that I came across were:-\n",
    "* Unigram failing in the politics flair. When I redownloaded my data on 22rd of April, the Arnab and Sonia Gandhi incident had happened which included a words like car, stones, Italy etc. These words are generally not associated with politics but because of this incident, they came out on top and messed with the analysis. \n",
    "* Secondly, I scrolled through reddit for hours to understand the data and thread pattern. An issue I witnessed there was that flairs like non-political often have clearly political tones and words like BJP, Hindu, Muslim etc. This results in an inaccurate representation. Similarly, AMA and AskIndia also have similar issues. \n",
    "\n",
    "### Feature Selection\n",
    "\n",
    "* I think something that could make the analysis better is exploring the url feature more. On posts which do not have a body, the url redirects to the additional content. If I can inculcate this data, then my features could become richher. \n",
    "\n",
    "* Secondly, the way my data is arranged is that there are 150 posts of each type one after the other. So, when I randomly sample it as testing and training data, there is skewness in the flairs and they aren't equally present in the training data which makes the analysis a little poor. \n",
    "\n",
    "### Model Selection\n",
    "\n",
    "Naive Bayes is a simple but useful technique for text classification tasks. It is also a frequency probability estimate. The above issues I mentioned reduce the model performance because the word frequencies get radically affected due to the above reasons. "
   ]
  },
  {
   "cell_type": "code",
   "execution_count": 87,
   "metadata": {},
   "outputs": [],
   "source": [
    "# Load the model\n",
    "loaded_model = joblib.load(filename)\n",
    "result = loaded_model.score(X_test, y_test)"
   ]
  },
  {
   "cell_type": "markdown",
   "metadata": {},
   "source": [
    "I will be using Naive Bayes due to the Fact that the Model isn't able to load in case of Logistic Regression classifier, due to which I have to choose the next best classifier, i.e., Naive Bayes"
   ]
  }
 ],
 "metadata": {
  "kernelspec": {
   "display_name": "Python 3",
   "language": "python",
   "name": "python3"
  },
  "language_info": {
   "codemirror_mode": {
    "name": "ipython",
    "version": 3
   },
   "file_extension": ".py",
   "mimetype": "text/x-python",
   "name": "python",
   "nbconvert_exporter": "python",
   "pygments_lexer": "ipython3",
   "version": "3.8.6"
  },
  "toc": {
   "base_numbering": 1,
   "nav_menu": {},
   "number_sections": true,
   "sideBar": true,
   "skip_h1_title": false,
   "title_cell": "Table of Contents",
   "title_sidebar": "Contents",
   "toc_cell": false,
   "toc_position": {},
   "toc_section_display": true,
   "toc_window_display": false
  }
 },
 "nbformat": 4,
 "nbformat_minor": 4
}